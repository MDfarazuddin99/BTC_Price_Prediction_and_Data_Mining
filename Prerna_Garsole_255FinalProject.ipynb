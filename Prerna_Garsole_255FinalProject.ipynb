{
  "nbformat": 4,
  "nbformat_minor": 0,
  "metadata": {
    "colab": {
      "provenance": []
    },
    "kernelspec": {
      "name": "python3",
      "display_name": "Python 3"
    },
    "language_info": {
      "name": "python"
    }
  },
  "cells": [
    {
      "cell_type": "code",
      "execution_count": null,
      "metadata": {
        "id": "gnUZQBQm8nqW"
      },
      "outputs": [],
      "source": [
        "import warnings\n",
        "warnings.filterwarnings('ignore')\n",
        "import os\n",
        "import pandas as pd\n",
        "import numpy as np\n",
        "import math\n",
        "import datetime as dt\n",
        "import matplotlib.pyplot as plt\n",
        "\n",
        "from sklearn.metrics import mean_squared_error, mean_absolute_error, explained_variance_score, r2_score \n",
        "from sklearn.metrics import mean_poisson_deviance, mean_gamma_deviance, accuracy_score\n",
        "from sklearn.preprocessing import MinMaxScaler\n",
        "\n",
        "from itertools import product\n",
        "import statsmodels.api as sm\n",
        "\n",
        "import tensorflow as tf\n",
        "\n",
        "from tensorflow.keras.models import Sequential\n",
        "from tensorflow.keras.layers import Dense, Dropout\n",
        "from tensorflow.keras.layers import LSTM\n",
        "\n",
        "from itertools import cycle\n",
        "import plotly.offline as py\n",
        "import plotly.graph_objects as go\n",
        "import plotly.express as px\n",
        "from plotly.subplots import make_subplots\n",
        "\n",
        "plt.style.use('seaborn-darkgrid')"
      ]
    },
    {
      "cell_type": "code",
      "source": [
        "root_path = './input/btc_ohlc_Oct_2015_to_Oct_2021.csv'"
      ],
      "metadata": {
        "id": "XCO7ioCv8805"
      },
      "execution_count": null,
      "outputs": []
    },
    {
      "cell_type": "code",
      "source": [
        "from google.colab import files\n",
        " \n",
        " \n",
        "uploaded = files.upload()"
      ],
      "metadata": {
        "colab": {
          "base_uri": "https://localhost:8080/",
          "height": 74
        },
        "id": "wGzG3sg_8_5f",
        "outputId": "a6ee1fb0-5bb9-4c55-eee1-0c46b6bb3c83"
      },
      "execution_count": null,
      "outputs": [
        {
          "output_type": "display_data",
          "data": {
            "text/plain": [
              "<IPython.core.display.HTML object>"
            ],
            "text/html": [
              "\n",
              "     <input type=\"file\" id=\"files-72de58fb-e11e-43c8-a48e-6ad4648416b4\" name=\"files[]\" multiple disabled\n",
              "        style=\"border:none\" />\n",
              "     <output id=\"result-72de58fb-e11e-43c8-a48e-6ad4648416b4\">\n",
              "      Upload widget is only available when the cell has been executed in the\n",
              "      current browser session. Please rerun this cell to enable.\n",
              "      </output>\n",
              "      <script>// Copyright 2017 Google LLC\n",
              "//\n",
              "// Licensed under the Apache License, Version 2.0 (the \"License\");\n",
              "// you may not use this file except in compliance with the License.\n",
              "// You may obtain a copy of the License at\n",
              "//\n",
              "//      http://www.apache.org/licenses/LICENSE-2.0\n",
              "//\n",
              "// Unless required by applicable law or agreed to in writing, software\n",
              "// distributed under the License is distributed on an \"AS IS\" BASIS,\n",
              "// WITHOUT WARRANTIES OR CONDITIONS OF ANY KIND, either express or implied.\n",
              "// See the License for the specific language governing permissions and\n",
              "// limitations under the License.\n",
              "\n",
              "/**\n",
              " * @fileoverview Helpers for google.colab Python module.\n",
              " */\n",
              "(function(scope) {\n",
              "function span(text, styleAttributes = {}) {\n",
              "  const element = document.createElement('span');\n",
              "  element.textContent = text;\n",
              "  for (const key of Object.keys(styleAttributes)) {\n",
              "    element.style[key] = styleAttributes[key];\n",
              "  }\n",
              "  return element;\n",
              "}\n",
              "\n",
              "// Max number of bytes which will be uploaded at a time.\n",
              "const MAX_PAYLOAD_SIZE = 100 * 1024;\n",
              "\n",
              "function _uploadFiles(inputId, outputId) {\n",
              "  const steps = uploadFilesStep(inputId, outputId);\n",
              "  const outputElement = document.getElementById(outputId);\n",
              "  // Cache steps on the outputElement to make it available for the next call\n",
              "  // to uploadFilesContinue from Python.\n",
              "  outputElement.steps = steps;\n",
              "\n",
              "  return _uploadFilesContinue(outputId);\n",
              "}\n",
              "\n",
              "// This is roughly an async generator (not supported in the browser yet),\n",
              "// where there are multiple asynchronous steps and the Python side is going\n",
              "// to poll for completion of each step.\n",
              "// This uses a Promise to block the python side on completion of each step,\n",
              "// then passes the result of the previous step as the input to the next step.\n",
              "function _uploadFilesContinue(outputId) {\n",
              "  const outputElement = document.getElementById(outputId);\n",
              "  const steps = outputElement.steps;\n",
              "\n",
              "  const next = steps.next(outputElement.lastPromiseValue);\n",
              "  return Promise.resolve(next.value.promise).then((value) => {\n",
              "    // Cache the last promise value to make it available to the next\n",
              "    // step of the generator.\n",
              "    outputElement.lastPromiseValue = value;\n",
              "    return next.value.response;\n",
              "  });\n",
              "}\n",
              "\n",
              "/**\n",
              " * Generator function which is called between each async step of the upload\n",
              " * process.\n",
              " * @param {string} inputId Element ID of the input file picker element.\n",
              " * @param {string} outputId Element ID of the output display.\n",
              " * @return {!Iterable<!Object>} Iterable of next steps.\n",
              " */\n",
              "function* uploadFilesStep(inputId, outputId) {\n",
              "  const inputElement = document.getElementById(inputId);\n",
              "  inputElement.disabled = false;\n",
              "\n",
              "  const outputElement = document.getElementById(outputId);\n",
              "  outputElement.innerHTML = '';\n",
              "\n",
              "  const pickedPromise = new Promise((resolve) => {\n",
              "    inputElement.addEventListener('change', (e) => {\n",
              "      resolve(e.target.files);\n",
              "    });\n",
              "  });\n",
              "\n",
              "  const cancel = document.createElement('button');\n",
              "  inputElement.parentElement.appendChild(cancel);\n",
              "  cancel.textContent = 'Cancel upload';\n",
              "  const cancelPromise = new Promise((resolve) => {\n",
              "    cancel.onclick = () => {\n",
              "      resolve(null);\n",
              "    };\n",
              "  });\n",
              "\n",
              "  // Wait for the user to pick the files.\n",
              "  const files = yield {\n",
              "    promise: Promise.race([pickedPromise, cancelPromise]),\n",
              "    response: {\n",
              "      action: 'starting',\n",
              "    }\n",
              "  };\n",
              "\n",
              "  cancel.remove();\n",
              "\n",
              "  // Disable the input element since further picks are not allowed.\n",
              "  inputElement.disabled = true;\n",
              "\n",
              "  if (!files) {\n",
              "    return {\n",
              "      response: {\n",
              "        action: 'complete',\n",
              "      }\n",
              "    };\n",
              "  }\n",
              "\n",
              "  for (const file of files) {\n",
              "    const li = document.createElement('li');\n",
              "    li.append(span(file.name, {fontWeight: 'bold'}));\n",
              "    li.append(span(\n",
              "        `(${file.type || 'n/a'}) - ${file.size} bytes, ` +\n",
              "        `last modified: ${\n",
              "            file.lastModifiedDate ? file.lastModifiedDate.toLocaleDateString() :\n",
              "                                    'n/a'} - `));\n",
              "    const percent = span('0% done');\n",
              "    li.appendChild(percent);\n",
              "\n",
              "    outputElement.appendChild(li);\n",
              "\n",
              "    const fileDataPromise = new Promise((resolve) => {\n",
              "      const reader = new FileReader();\n",
              "      reader.onload = (e) => {\n",
              "        resolve(e.target.result);\n",
              "      };\n",
              "      reader.readAsArrayBuffer(file);\n",
              "    });\n",
              "    // Wait for the data to be ready.\n",
              "    let fileData = yield {\n",
              "      promise: fileDataPromise,\n",
              "      response: {\n",
              "        action: 'continue',\n",
              "      }\n",
              "    };\n",
              "\n",
              "    // Use a chunked sending to avoid message size limits. See b/62115660.\n",
              "    let position = 0;\n",
              "    do {\n",
              "      const length = Math.min(fileData.byteLength - position, MAX_PAYLOAD_SIZE);\n",
              "      const chunk = new Uint8Array(fileData, position, length);\n",
              "      position += length;\n",
              "\n",
              "      const base64 = btoa(String.fromCharCode.apply(null, chunk));\n",
              "      yield {\n",
              "        response: {\n",
              "          action: 'append',\n",
              "          file: file.name,\n",
              "          data: base64,\n",
              "        },\n",
              "      };\n",
              "\n",
              "      let percentDone = fileData.byteLength === 0 ?\n",
              "          100 :\n",
              "          Math.round((position / fileData.byteLength) * 100);\n",
              "      percent.textContent = `${percentDone}% done`;\n",
              "\n",
              "    } while (position < fileData.byteLength);\n",
              "  }\n",
              "\n",
              "  // All done.\n",
              "  yield {\n",
              "    response: {\n",
              "      action: 'complete',\n",
              "    }\n",
              "  };\n",
              "}\n",
              "\n",
              "scope.google = scope.google || {};\n",
              "scope.google.colab = scope.google.colab || {};\n",
              "scope.google.colab._files = {\n",
              "  _uploadFiles,\n",
              "  _uploadFilesContinue,\n",
              "};\n",
              "})(self);\n",
              "</script> "
            ]
          },
          "metadata": {}
        },
        {
          "output_type": "stream",
          "name": "stdout",
          "text": [
            "Saving btc_ohlc_Oct_2015_to_Oct_2021.csv to btc_ohlc_Oct_2015_to_Oct_2021.csv\n"
          ]
        }
      ]
    },
    {
      "cell_type": "code",
      "source": [
        "df = pd.read_csv('btc_ohlc_Oct_2015_to_Oct_2021.csv')\n",
        "df.head()"
      ],
      "metadata": {
        "colab": {
          "base_uri": "https://localhost:8080/",
          "height": 206
        },
        "id": "n1jrEvT_A27-",
        "outputId": "0e3c74ab-e040-4c8e-f3cc-fc1279041faf"
      },
      "execution_count": null,
      "outputs": [
        {
          "output_type": "execute_result",
          "data": {
            "text/plain": [
              "                  time       low      high      open     close    volume\n",
              "0  2021-10-30 03:00:00  61868.81  61920.00  61888.18  61919.98  2.946079\n",
              "1  2021-10-30 02:59:00  61882.74  61912.67  61903.16  61882.74  2.942357\n",
              "2  2021-10-30 02:58:00  61854.82  61907.96  61854.82  61903.15  3.047848\n",
              "3  2021-10-30 02:57:00  61848.04  61883.02  61883.01  61851.39  3.381070\n",
              "4  2021-10-30 02:56:00  61879.33  61925.42  61907.47  61882.28  5.663128"
            ],
            "text/html": [
              "\n",
              "  <div id=\"df-56d3277b-b823-45a1-b4c9-845ce7cdbb9a\">\n",
              "    <div class=\"colab-df-container\">\n",
              "      <div>\n",
              "<style scoped>\n",
              "    .dataframe tbody tr th:only-of-type {\n",
              "        vertical-align: middle;\n",
              "    }\n",
              "\n",
              "    .dataframe tbody tr th {\n",
              "        vertical-align: top;\n",
              "    }\n",
              "\n",
              "    .dataframe thead th {\n",
              "        text-align: right;\n",
              "    }\n",
              "</style>\n",
              "<table border=\"1\" class=\"dataframe\">\n",
              "  <thead>\n",
              "    <tr style=\"text-align: right;\">\n",
              "      <th></th>\n",
              "      <th>time</th>\n",
              "      <th>low</th>\n",
              "      <th>high</th>\n",
              "      <th>open</th>\n",
              "      <th>close</th>\n",
              "      <th>volume</th>\n",
              "    </tr>\n",
              "  </thead>\n",
              "  <tbody>\n",
              "    <tr>\n",
              "      <th>0</th>\n",
              "      <td>2021-10-30 03:00:00</td>\n",
              "      <td>61868.81</td>\n",
              "      <td>61920.00</td>\n",
              "      <td>61888.18</td>\n",
              "      <td>61919.98</td>\n",
              "      <td>2.946079</td>\n",
              "    </tr>\n",
              "    <tr>\n",
              "      <th>1</th>\n",
              "      <td>2021-10-30 02:59:00</td>\n",
              "      <td>61882.74</td>\n",
              "      <td>61912.67</td>\n",
              "      <td>61903.16</td>\n",
              "      <td>61882.74</td>\n",
              "      <td>2.942357</td>\n",
              "    </tr>\n",
              "    <tr>\n",
              "      <th>2</th>\n",
              "      <td>2021-10-30 02:58:00</td>\n",
              "      <td>61854.82</td>\n",
              "      <td>61907.96</td>\n",
              "      <td>61854.82</td>\n",
              "      <td>61903.15</td>\n",
              "      <td>3.047848</td>\n",
              "    </tr>\n",
              "    <tr>\n",
              "      <th>3</th>\n",
              "      <td>2021-10-30 02:57:00</td>\n",
              "      <td>61848.04</td>\n",
              "      <td>61883.02</td>\n",
              "      <td>61883.01</td>\n",
              "      <td>61851.39</td>\n",
              "      <td>3.381070</td>\n",
              "    </tr>\n",
              "    <tr>\n",
              "      <th>4</th>\n",
              "      <td>2021-10-30 02:56:00</td>\n",
              "      <td>61879.33</td>\n",
              "      <td>61925.42</td>\n",
              "      <td>61907.47</td>\n",
              "      <td>61882.28</td>\n",
              "      <td>5.663128</td>\n",
              "    </tr>\n",
              "  </tbody>\n",
              "</table>\n",
              "</div>\n",
              "      <button class=\"colab-df-convert\" onclick=\"convertToInteractive('df-56d3277b-b823-45a1-b4c9-845ce7cdbb9a')\"\n",
              "              title=\"Convert this dataframe to an interactive table.\"\n",
              "              style=\"display:none;\">\n",
              "        \n",
              "  <svg xmlns=\"http://www.w3.org/2000/svg\" height=\"24px\"viewBox=\"0 0 24 24\"\n",
              "       width=\"24px\">\n",
              "    <path d=\"M0 0h24v24H0V0z\" fill=\"none\"/>\n",
              "    <path d=\"M18.56 5.44l.94 2.06.94-2.06 2.06-.94-2.06-.94-.94-2.06-.94 2.06-2.06.94zm-11 1L8.5 8.5l.94-2.06 2.06-.94-2.06-.94L8.5 2.5l-.94 2.06-2.06.94zm10 10l.94 2.06.94-2.06 2.06-.94-2.06-.94-.94-2.06-.94 2.06-2.06.94z\"/><path d=\"M17.41 7.96l-1.37-1.37c-.4-.4-.92-.59-1.43-.59-.52 0-1.04.2-1.43.59L10.3 9.45l-7.72 7.72c-.78.78-.78 2.05 0 2.83L4 21.41c.39.39.9.59 1.41.59.51 0 1.02-.2 1.41-.59l7.78-7.78 2.81-2.81c.8-.78.8-2.07 0-2.86zM5.41 20L4 18.59l7.72-7.72 1.47 1.35L5.41 20z\"/>\n",
              "  </svg>\n",
              "      </button>\n",
              "      \n",
              "  <style>\n",
              "    .colab-df-container {\n",
              "      display:flex;\n",
              "      flex-wrap:wrap;\n",
              "      gap: 12px;\n",
              "    }\n",
              "\n",
              "    .colab-df-convert {\n",
              "      background-color: #E8F0FE;\n",
              "      border: none;\n",
              "      border-radius: 50%;\n",
              "      cursor: pointer;\n",
              "      display: none;\n",
              "      fill: #1967D2;\n",
              "      height: 32px;\n",
              "      padding: 0 0 0 0;\n",
              "      width: 32px;\n",
              "    }\n",
              "\n",
              "    .colab-df-convert:hover {\n",
              "      background-color: #E2EBFA;\n",
              "      box-shadow: 0px 1px 2px rgba(60, 64, 67, 0.3), 0px 1px 3px 1px rgba(60, 64, 67, 0.15);\n",
              "      fill: #174EA6;\n",
              "    }\n",
              "\n",
              "    [theme=dark] .colab-df-convert {\n",
              "      background-color: #3B4455;\n",
              "      fill: #D2E3FC;\n",
              "    }\n",
              "\n",
              "    [theme=dark] .colab-df-convert:hover {\n",
              "      background-color: #434B5C;\n",
              "      box-shadow: 0px 1px 3px 1px rgba(0, 0, 0, 0.15);\n",
              "      filter: drop-shadow(0px 1px 2px rgba(0, 0, 0, 0.3));\n",
              "      fill: #FFFFFF;\n",
              "    }\n",
              "  </style>\n",
              "\n",
              "      <script>\n",
              "        const buttonEl =\n",
              "          document.querySelector('#df-56d3277b-b823-45a1-b4c9-845ce7cdbb9a button.colab-df-convert');\n",
              "        buttonEl.style.display =\n",
              "          google.colab.kernel.accessAllowed ? 'block' : 'none';\n",
              "\n",
              "        async function convertToInteractive(key) {\n",
              "          const element = document.querySelector('#df-56d3277b-b823-45a1-b4c9-845ce7cdbb9a');\n",
              "          const dataTable =\n",
              "            await google.colab.kernel.invokeFunction('convertToInteractive',\n",
              "                                                     [key], {});\n",
              "          if (!dataTable) return;\n",
              "\n",
              "          const docLinkHtml = 'Like what you see? Visit the ' +\n",
              "            '<a target=\"_blank\" href=https://colab.research.google.com/notebooks/data_table.ipynb>data table notebook</a>'\n",
              "            + ' to learn more about interactive tables.';\n",
              "          element.innerHTML = '';\n",
              "          dataTable['output_type'] = 'display_data';\n",
              "          await google.colab.output.renderOutput(dataTable, element);\n",
              "          const docLink = document.createElement('div');\n",
              "          docLink.innerHTML = docLinkHtml;\n",
              "          element.appendChild(docLink);\n",
              "        }\n",
              "      </script>\n",
              "    </div>\n",
              "  </div>\n",
              "  "
            ]
          },
          "metadata": {},
          "execution_count": 5
        }
      ]
    },
    {
      "cell_type": "code",
      "source": [
        "df.shape"
      ],
      "metadata": {
        "colab": {
          "base_uri": "https://localhost:8080/"
        },
        "id": "Az7iYK3aA-C4",
        "outputId": "c67fa14c-9462-4a3b-d9cc-249be5eb5671"
      },
      "execution_count": null,
      "outputs": [
        {
          "output_type": "execute_result",
          "data": {
            "text/plain": [
              "(3113276, 6)"
            ]
          },
          "metadata": {},
          "execution_count": 6
        }
      ]
    },
    {
      "cell_type": "code",
      "source": [
        "df.describe()"
      ],
      "metadata": {
        "colab": {
          "base_uri": "https://localhost:8080/",
          "height": 300
        },
        "id": "J87UVRdyBAmK",
        "outputId": "d282dd1d-9476-4b7a-8417-063e26381d40"
      },
      "execution_count": null,
      "outputs": [
        {
          "output_type": "execute_result",
          "data": {
            "text/plain": [
              "                low          high          open         close        volume\n",
              "count  3.113276e+06  3.113276e+06  3.113276e+06  3.113276e+06  3.113276e+06\n",
              "mean   1.152825e+04  1.154230e+04  1.153537e+04  1.153541e+04  9.689568e+00\n",
              "std    1.490292e+04  1.492446e+04  1.491374e+04  1.491379e+04  2.239875e+01\n",
              "min    6.000000e-02  6.000000e-02  6.000000e-02  6.000000e-02  1.000000e-08\n",
              "25%    1.849557e+03  1.850000e+03  1.849925e+03  1.849980e+03  1.331197e+00\n",
              "50%    7.099990e+03  7.105000e+03  7.102045e+03  7.102060e+03  3.707298e+00\n",
              "75%    1.067558e+04  1.068550e+04  1.068027e+04  1.068040e+04  9.761575e+00\n",
              "max    6.690000e+04  6.699900e+04  6.694122e+04  6.694122e+04  1.549613e+03"
            ],
            "text/html": [
              "\n",
              "  <div id=\"df-da1f7956-f0f8-429b-9d4e-9162096305fb\">\n",
              "    <div class=\"colab-df-container\">\n",
              "      <div>\n",
              "<style scoped>\n",
              "    .dataframe tbody tr th:only-of-type {\n",
              "        vertical-align: middle;\n",
              "    }\n",
              "\n",
              "    .dataframe tbody tr th {\n",
              "        vertical-align: top;\n",
              "    }\n",
              "\n",
              "    .dataframe thead th {\n",
              "        text-align: right;\n",
              "    }\n",
              "</style>\n",
              "<table border=\"1\" class=\"dataframe\">\n",
              "  <thead>\n",
              "    <tr style=\"text-align: right;\">\n",
              "      <th></th>\n",
              "      <th>low</th>\n",
              "      <th>high</th>\n",
              "      <th>open</th>\n",
              "      <th>close</th>\n",
              "      <th>volume</th>\n",
              "    </tr>\n",
              "  </thead>\n",
              "  <tbody>\n",
              "    <tr>\n",
              "      <th>count</th>\n",
              "      <td>3.113276e+06</td>\n",
              "      <td>3.113276e+06</td>\n",
              "      <td>3.113276e+06</td>\n",
              "      <td>3.113276e+06</td>\n",
              "      <td>3.113276e+06</td>\n",
              "    </tr>\n",
              "    <tr>\n",
              "      <th>mean</th>\n",
              "      <td>1.152825e+04</td>\n",
              "      <td>1.154230e+04</td>\n",
              "      <td>1.153537e+04</td>\n",
              "      <td>1.153541e+04</td>\n",
              "      <td>9.689568e+00</td>\n",
              "    </tr>\n",
              "    <tr>\n",
              "      <th>std</th>\n",
              "      <td>1.490292e+04</td>\n",
              "      <td>1.492446e+04</td>\n",
              "      <td>1.491374e+04</td>\n",
              "      <td>1.491379e+04</td>\n",
              "      <td>2.239875e+01</td>\n",
              "    </tr>\n",
              "    <tr>\n",
              "      <th>min</th>\n",
              "      <td>6.000000e-02</td>\n",
              "      <td>6.000000e-02</td>\n",
              "      <td>6.000000e-02</td>\n",
              "      <td>6.000000e-02</td>\n",
              "      <td>1.000000e-08</td>\n",
              "    </tr>\n",
              "    <tr>\n",
              "      <th>25%</th>\n",
              "      <td>1.849557e+03</td>\n",
              "      <td>1.850000e+03</td>\n",
              "      <td>1.849925e+03</td>\n",
              "      <td>1.849980e+03</td>\n",
              "      <td>1.331197e+00</td>\n",
              "    </tr>\n",
              "    <tr>\n",
              "      <th>50%</th>\n",
              "      <td>7.099990e+03</td>\n",
              "      <td>7.105000e+03</td>\n",
              "      <td>7.102045e+03</td>\n",
              "      <td>7.102060e+03</td>\n",
              "      <td>3.707298e+00</td>\n",
              "    </tr>\n",
              "    <tr>\n",
              "      <th>75%</th>\n",
              "      <td>1.067558e+04</td>\n",
              "      <td>1.068550e+04</td>\n",
              "      <td>1.068027e+04</td>\n",
              "      <td>1.068040e+04</td>\n",
              "      <td>9.761575e+00</td>\n",
              "    </tr>\n",
              "    <tr>\n",
              "      <th>max</th>\n",
              "      <td>6.690000e+04</td>\n",
              "      <td>6.699900e+04</td>\n",
              "      <td>6.694122e+04</td>\n",
              "      <td>6.694122e+04</td>\n",
              "      <td>1.549613e+03</td>\n",
              "    </tr>\n",
              "  </tbody>\n",
              "</table>\n",
              "</div>\n",
              "      <button class=\"colab-df-convert\" onclick=\"convertToInteractive('df-da1f7956-f0f8-429b-9d4e-9162096305fb')\"\n",
              "              title=\"Convert this dataframe to an interactive table.\"\n",
              "              style=\"display:none;\">\n",
              "        \n",
              "  <svg xmlns=\"http://www.w3.org/2000/svg\" height=\"24px\"viewBox=\"0 0 24 24\"\n",
              "       width=\"24px\">\n",
              "    <path d=\"M0 0h24v24H0V0z\" fill=\"none\"/>\n",
              "    <path d=\"M18.56 5.44l.94 2.06.94-2.06 2.06-.94-2.06-.94-.94-2.06-.94 2.06-2.06.94zm-11 1L8.5 8.5l.94-2.06 2.06-.94-2.06-.94L8.5 2.5l-.94 2.06-2.06.94zm10 10l.94 2.06.94-2.06 2.06-.94-2.06-.94-.94-2.06-.94 2.06-2.06.94z\"/><path d=\"M17.41 7.96l-1.37-1.37c-.4-.4-.92-.59-1.43-.59-.52 0-1.04.2-1.43.59L10.3 9.45l-7.72 7.72c-.78.78-.78 2.05 0 2.83L4 21.41c.39.39.9.59 1.41.59.51 0 1.02-.2 1.41-.59l7.78-7.78 2.81-2.81c.8-.78.8-2.07 0-2.86zM5.41 20L4 18.59l7.72-7.72 1.47 1.35L5.41 20z\"/>\n",
              "  </svg>\n",
              "      </button>\n",
              "      \n",
              "  <style>\n",
              "    .colab-df-container {\n",
              "      display:flex;\n",
              "      flex-wrap:wrap;\n",
              "      gap: 12px;\n",
              "    }\n",
              "\n",
              "    .colab-df-convert {\n",
              "      background-color: #E8F0FE;\n",
              "      border: none;\n",
              "      border-radius: 50%;\n",
              "      cursor: pointer;\n",
              "      display: none;\n",
              "      fill: #1967D2;\n",
              "      height: 32px;\n",
              "      padding: 0 0 0 0;\n",
              "      width: 32px;\n",
              "    }\n",
              "\n",
              "    .colab-df-convert:hover {\n",
              "      background-color: #E2EBFA;\n",
              "      box-shadow: 0px 1px 2px rgba(60, 64, 67, 0.3), 0px 1px 3px 1px rgba(60, 64, 67, 0.15);\n",
              "      fill: #174EA6;\n",
              "    }\n",
              "\n",
              "    [theme=dark] .colab-df-convert {\n",
              "      background-color: #3B4455;\n",
              "      fill: #D2E3FC;\n",
              "    }\n",
              "\n",
              "    [theme=dark] .colab-df-convert:hover {\n",
              "      background-color: #434B5C;\n",
              "      box-shadow: 0px 1px 3px 1px rgba(0, 0, 0, 0.15);\n",
              "      filter: drop-shadow(0px 1px 2px rgba(0, 0, 0, 0.3));\n",
              "      fill: #FFFFFF;\n",
              "    }\n",
              "  </style>\n",
              "\n",
              "      <script>\n",
              "        const buttonEl =\n",
              "          document.querySelector('#df-da1f7956-f0f8-429b-9d4e-9162096305fb button.colab-df-convert');\n",
              "        buttonEl.style.display =\n",
              "          google.colab.kernel.accessAllowed ? 'block' : 'none';\n",
              "\n",
              "        async function convertToInteractive(key) {\n",
              "          const element = document.querySelector('#df-da1f7956-f0f8-429b-9d4e-9162096305fb');\n",
              "          const dataTable =\n",
              "            await google.colab.kernel.invokeFunction('convertToInteractive',\n",
              "                                                     [key], {});\n",
              "          if (!dataTable) return;\n",
              "\n",
              "          const docLinkHtml = 'Like what you see? Visit the ' +\n",
              "            '<a target=\"_blank\" href=https://colab.research.google.com/notebooks/data_table.ipynb>data table notebook</a>'\n",
              "            + ' to learn more about interactive tables.';\n",
              "          element.innerHTML = '';\n",
              "          dataTable['output_type'] = 'display_data';\n",
              "          await google.colab.output.renderOutput(dataTable, element);\n",
              "          const docLink = document.createElement('div');\n",
              "          docLink.innerHTML = docLinkHtml;\n",
              "          element.appendChild(docLink);\n",
              "        }\n",
              "      </script>\n",
              "    </div>\n",
              "  </div>\n",
              "  "
            ]
          },
          "metadata": {},
          "execution_count": 7
        }
      ]
    },
    {
      "cell_type": "markdown",
      "source": [
        "**Data Analysis**"
      ],
      "metadata": {
        "id": "1A1-WIf2Bwh2"
      }
    },
    {
      "cell_type": "code",
      "source": [
        "\n",
        "plt.figure(figsize=(15, 5))\n",
        "plt.plot(df['close'])\n",
        "plt.title('Bitcoin Close price.', fontsize=15)\n",
        "plt.ylabel('Price in dollars.')\n",
        "plt.show()"
      ],
      "metadata": {
        "colab": {
          "base_uri": "https://localhost:8080/",
          "height": 346
        },
        "id": "4bZf_wtEBvjp",
        "outputId": "69dc7917-cbfc-4f5e-bd7d-0341bed8ebf5"
      },
      "execution_count": null,
      "outputs": [
        {
          "output_type": "display_data",
          "data": {
            "text/plain": [
              "<Figure size 1080x360 with 1 Axes>"
            ],
            "image/png": "[encoded data removed]"
          },
          "metadata": {}
        }
      ]
    },
    {
      "cell_type": "code",
      "source": [
        "import seaborn as sns\n",
        "import matplotlib.pyplot as plt\n"
      ],
      "metadata": {
        "id": "SaRPOENDCooD"
      },
      "execution_count": null,
      "outputs": []
    },
    {
      "cell_type": "code",
      "source": [
        "\n",
        "import numpy as np\n",
        "import pandas as pd\n",
        "import matplotlib.pyplot as plt\n",
        "import seaborn as sb\n",
        " \n",
        "from sklearn.model_selection import train_test_split\n",
        "from sklearn.preprocessing import StandardScaler\n",
        "from sklearn.linear_model import LogisticRegression\n",
        "from sklearn.svm import SVC\n",
        "from xgboost import XGBClassifier\n",
        "from sklearn import metrics\n",
        " \n",
        "import warnings\n",
        "warnings.filterwarnings('ignore')"
      ],
      "metadata": {
        "id": "RRNpOiYgFdSp"
      },
      "execution_count": null,
      "outputs": []
    },
    {
      "cell_type": "code",
      "source": [
        "\n",
        "features = ['open', 'high', 'low', 'close']\n",
        " \n",
        "plt.subplots(figsize=(20,10))\n",
        "for i, col in enumerate(features):\n",
        "  plt.subplot(2,2,i+1)\n",
        "  aa= sb.distplot(df[col])\n",
        "plt.show()"
      ],
      "metadata": {
        "colab": {
          "base_uri": "https://localhost:8080/",
          "height": 602
        },
        "id": "u5NoJLQWFUDg",
        "outputId": "fecd0720-8745-4d9d-ee95-fff6684d17ec"
      },
      "execution_count": null,
      "outputs": [
        {
          "output_type": "display_data",
          "data": {
            "text/plain": [
              "<Figure size 1440x720 with 4 Axes>"
            ],
            "image/png": "[encoded data removed]"
          },
          "metadata": {}
        }
      ]
    },
    {
      "cell_type": "code",
      "source": [
        "plt.subplots(figsize=(20,10))\n",
        "for i, col in enumerate(features):\n",
        "  plt.subplot(2,2,i+1)\n",
        "  sb.boxplot(df[col])\n",
        "plt.show()"
      ],
      "metadata": {
        "colab": {
          "base_uri": "https://localhost:8080/",
          "height": 602
        },
        "id": "mXqj7gIIF6tb",
        "outputId": "a55eef18-7ccf-455a-c44c-7dd0b541c9bd"
      },
      "execution_count": null,
      "outputs": [
        {
          "output_type": "display_data",
          "data": {
            "text/plain": [
              "<Figure size 1440x720 with 4 Axes>"
            ],
            "image/png": "[encoded data removed]"
          },
          "metadata": {}
        }
      ]
    },
    {
      "cell_type": "code",
      "source": [
        "plt.figure(figsize=(10, 10))\n",
        " \n",
        "# As our concern is with the highly\n",
        "# correlated features only so, we will visualize\n",
        "# our heatmap as per that criteria only.\n",
        "sb.heatmap(df.corr() > 0.9,annot=True, cbar=False)\n",
        "plt.show()"
      ],
      "metadata": {
        "colab": {
          "base_uri": "https://localhost:8080/",
          "height": 588
        },
        "id": "0KCJJEf3GFKL",
        "outputId": "4d5cfe8d-66fb-4d96-df84-0d0ad9b53449"
      },
      "execution_count": null,
      "outputs": [
        {
          "output_type": "display_data",
          "data": {
            "text/plain": [
              "<Figure size 720x720 with 1 Axes>"
            ],
            "image/png": "[encoded data removed]"
          },
          "metadata": {}
        }
      ]
    },
    {
      "cell_type": "code",
      "source": [
        "features = df[['open', 'low', 'open']]\n",
        "target = df['volume']\n",
        " \n",
        "scaler = StandardScaler()\n",
        "features = scaler.fit_transform(features)\n",
        " \n",
        "X_train, X_valid, Y_train, Y_valid = train_test_split(\n",
        "    features, target, test_size=0.1, random_state=2022)\n",
        "print(X_train.shape, X_valid.shape)"
      ],
      "metadata": {
        "colab": {
          "base_uri": "https://localhost:8080/"
        },
        "id": "HWfNh-8SY8pK",
        "outputId": "aefbdb09-c331-4de0-a00e-ea95cd923f16"
      },
      "execution_count": null,
      "outputs": [
        {
          "output_type": "stream",
          "name": "stdout",
          "text": [
            "(2801948, 3) (311328, 3)\n"
          ]
        }
      ]
    },
    {
      "cell_type": "code",
      "source": [
        "features = df[['open', 'high', 'close']]\n",
        "target = df['volume']\n",
        " \n",
        "scaler = StandardScaler()\n",
        "features = scaler.fit_transform(features)\n",
        " \n",
        "X_train, X_valid, Y_train, Y_valid = train_test_split(\n",
        "    features, target, test_size=0.1, random_state=2022)\n",
        "print(X_train.shape, X_valid.shape)"
      ],
      "metadata": {
        "colab": {
          "base_uri": "https://localhost:8080/"
        },
        "id": "ERfeFvqZISD-",
        "outputId": "6439d6dc-35a7-49ea-b6f7-37eba2f70fd9"
      },
      "execution_count": null,
      "outputs": [
        {
          "output_type": "stream",
          "name": "stdout",
          "text": [
            "(2801948, 3) (311328, 3)\n"
          ]
        }
      ]
    },
    {
      "cell_type": "code",
      "source": [
        "import warnings\n",
        "warnings.filterwarnings('ignore')\n",
        "import os\n",
        "import pandas as pd\n",
        "import numpy as np\n",
        "import math\n",
        "import datetime as dt\n",
        "import matplotlib.pyplot as plt\n",
        "\n",
        "from sklearn.metrics import mean_squared_error, mean_absolute_error, explained_variance_score, r2_score \n",
        "from sklearn.metrics import mean_poisson_deviance, mean_gamma_deviance, accuracy_score\n",
        "from sklearn.preprocessing import MinMaxScaler\n",
        "\n",
        "from itertools import product\n",
        "import statsmodels.api as sm\n",
        "\n",
        "import tensorflow as tf\n",
        "\n",
        "from tensorflow.keras.models import Sequential\n",
        "from tensorflow.keras.layers import Dense, Dropout\n",
        "from tensorflow.keras.layers import LSTM\n",
        "\n",
        "from itertools import cycle\n",
        "import plotly.offline as py\n",
        "import plotly.graph_objects as go\n",
        "import plotly.express as px\n",
        "from plotly.subplots import make_subplots\n",
        "\n",
        "plt.style.use('seaborn-darkgrid')"
      ],
      "metadata": {
        "id": "zczmWxJ_I2bS"
      },
      "execution_count": null,
      "outputs": []
    },
    {
      "cell_type": "code",
      "source": [
        "import pandas as pd\n",
        "import io\n",
        " \n",
        "df = pd.read_csv(io.BytesIO(uploaded['btc_ohlc_Oct_2015_to_Oct_2021.csv']))\n",
        "print(df)"
      ],
      "metadata": {
        "colab": {
          "base_uri": "https://localhost:8080/"
        },
        "id": "tF42jSXyI9vk",
        "outputId": "3787f4e1-63be-4271-d833-63123aa339c4"
      },
      "execution_count": null,
      "outputs": [
        {
          "output_type": "stream",
          "name": "stdout",
          "text": [
            "                        time       low      high      open     close  \\\n",
            "0        2021-10-30 03:00:00  61868.81  61920.00  61888.18  61919.98   \n",
            "1        2021-10-30 02:59:00  61882.74  61912.67  61903.16  61882.74   \n",
            "2        2021-10-30 02:58:00  61854.82  61907.96  61854.82  61903.15   \n",
            "3        2021-10-30 02:57:00  61848.04  61883.02  61883.01  61851.39   \n",
            "4        2021-10-30 02:56:00  61879.33  61925.42  61907.47  61882.28   \n",
            "...                      ...       ...       ...       ...       ...   \n",
            "3113271  2015-10-27 00:04:00    287.07    287.07    287.07    287.07   \n",
            "3113272  2015-10-27 00:03:00    287.08    287.09    287.08    287.09   \n",
            "3113273  2015-10-27 00:02:00    286.89    287.10    287.10    286.89   \n",
            "3113274  2015-10-27 00:01:00    287.09    287.09    287.09    287.09   \n",
            "3113275  2015-10-27 00:00:00    287.10    287.10    287.10    287.10   \n",
            "\n",
            "            volume  \n",
            "0         2.946079  \n",
            "1         2.942357  \n",
            "2         3.047848  \n",
            "3         3.381070  \n",
            "4         5.663128  \n",
            "...            ...  \n",
            "3113271   0.086100  \n",
            "3113272   0.554400  \n",
            "3113273  72.403200  \n",
            "3113274   0.822760  \n",
            "3113275   0.536200  \n",
            "\n",
            "[3113276 rows x 6 columns]\n"
          ]
        }
      ]
    },
    {
      "cell_type": "code",
      "source": [
        "\n",
        "df.tail()"
      ],
      "metadata": {
        "colab": {
          "base_uri": "https://localhost:8080/",
          "height": 206
        },
        "id": "HV-VNs98JYaj",
        "outputId": "764fcf74-1bc5-4a50-ba8c-a765723bc6d7"
      },
      "execution_count": null,
      "outputs": [
        {
          "output_type": "execute_result",
          "data": {
            "text/plain": [
              "                        time     low    high    open   close    volume\n",
              "3113271  2015-10-27 00:04:00  287.07  287.07  287.07  287.07   0.08610\n",
              "3113272  2015-10-27 00:03:00  287.08  287.09  287.08  287.09   0.55440\n",
              "3113273  2015-10-27 00:02:00  286.89  287.10  287.10  286.89  72.40320\n",
              "3113274  2015-10-27 00:01:00  287.09  287.09  287.09  287.09   0.82276\n",
              "3113275  2015-10-27 00:00:00  287.10  287.10  287.10  287.10   0.53620"
            ],
            "text/html": [
              "\n",
              "  <div id=\"df-9079e892-5d5d-464a-b591-f689a173ae82\">\n",
              "    <div class=\"colab-df-container\">\n",
              "      <div>\n",
              "<style scoped>\n",
              "    .dataframe tbody tr th:only-of-type {\n",
              "        vertical-align: middle;\n",
              "    }\n",
              "\n",
              "    .dataframe tbody tr th {\n",
              "        vertical-align: top;\n",
              "    }\n",
              "\n",
              "    .dataframe thead th {\n",
              "        text-align: right;\n",
              "    }\n",
              "</style>\n",
              "<table border=\"1\" class=\"dataframe\">\n",
              "  <thead>\n",
              "    <tr style=\"text-align: right;\">\n",
              "      <th></th>\n",
              "      <th>time</th>\n",
              "      <th>low</th>\n",
              "      <th>high</th>\n",
              "      <th>open</th>\n",
              "      <th>close</th>\n",
              "      <th>volume</th>\n",
              "    </tr>\n",
              "  </thead>\n",
              "  <tbody>\n",
              "    <tr>\n",
              "      <th>3113271</th>\n",
              "      <td>2015-10-27 00:04:00</td>\n",
              "      <td>287.07</td>\n",
              "      <td>287.07</td>\n",
              "      <td>287.07</td>\n",
              "      <td>287.07</td>\n",
              "      <td>0.08610</td>\n",
              "    </tr>\n",
              "    <tr>\n",
              "      <th>3113272</th>\n",
              "      <td>2015-10-27 00:03:00</td>\n",
              "      <td>287.08</td>\n",
              "      <td>287.09</td>\n",
              "      <td>287.08</td>\n",
              "      <td>287.09</td>\n",
              "      <td>0.55440</td>\n",
              "    </tr>\n",
              "    <tr>\n",
              "      <th>3113273</th>\n",
              "      <td>2015-10-27 00:02:00</td>\n",
              "      <td>286.89</td>\n",
              "      <td>287.10</td>\n",
              "      <td>287.10</td>\n",
              "      <td>286.89</td>\n",
              "      <td>72.40320</td>\n",
              "    </tr>\n",
              "    <tr>\n",
              "      <th>3113274</th>\n",
              "      <td>2015-10-27 00:01:00</td>\n",
              "      <td>287.09</td>\n",
              "      <td>287.09</td>\n",
              "      <td>287.09</td>\n",
              "      <td>287.09</td>\n",
              "      <td>0.82276</td>\n",
              "    </tr>\n",
              "    <tr>\n",
              "      <th>3113275</th>\n",
              "      <td>2015-10-27 00:00:00</td>\n",
              "      <td>287.10</td>\n",
              "      <td>287.10</td>\n",
              "      <td>287.10</td>\n",
              "      <td>287.10</td>\n",
              "      <td>0.53620</td>\n",
              "    </tr>\n",
              "  </tbody>\n",
              "</table>\n",
              "</div>\n",
              "      <button class=\"colab-df-convert\" onclick=\"convertToInteractive('df-9079e892-5d5d-464a-b591-f689a173ae82')\"\n",
              "              title=\"Convert this dataframe to an interactive table.\"\n",
              "              style=\"display:none;\">\n",
              "        \n",
              "  <svg xmlns=\"http://www.w3.org/2000/svg\" height=\"24px\"viewBox=\"0 0 24 24\"\n",
              "       width=\"24px\">\n",
              "    <path d=\"M0 0h24v24H0V0z\" fill=\"none\"/>\n",
              "    <path d=\"M18.56 5.44l.94 2.06.94-2.06 2.06-.94-2.06-.94-.94-2.06-.94 2.06-2.06.94zm-11 1L8.5 8.5l.94-2.06 2.06-.94-2.06-.94L8.5 2.5l-.94 2.06-2.06.94zm10 10l.94 2.06.94-2.06 2.06-.94-2.06-.94-.94-2.06-.94 2.06-2.06.94z\"/><path d=\"M17.41 7.96l-1.37-1.37c-.4-.4-.92-.59-1.43-.59-.52 0-1.04.2-1.43.59L10.3 9.45l-7.72 7.72c-.78.78-.78 2.05 0 2.83L4 21.41c.39.39.9.59 1.41.59.51 0 1.02-.2 1.41-.59l7.78-7.78 2.81-2.81c.8-.78.8-2.07 0-2.86zM5.41 20L4 18.59l7.72-7.72 1.47 1.35L5.41 20z\"/>\n",
              "  </svg>\n",
              "      </button>\n",
              "      \n",
              "  <style>\n",
              "    .colab-df-container {\n",
              "      display:flex;\n",
              "      flex-wrap:wrap;\n",
              "      gap: 12px;\n",
              "    }\n",
              "\n",
              "    .colab-df-convert {\n",
              "      background-color: #E8F0FE;\n",
              "      border: none;\n",
              "      border-radius: 50%;\n",
              "      cursor: pointer;\n",
              "      display: none;\n",
              "      fill: #1967D2;\n",
              "      height: 32px;\n",
              "      padding: 0 0 0 0;\n",
              "      width: 32px;\n",
              "    }\n",
              "\n",
              "    .colab-df-convert:hover {\n",
              "      background-color: #E2EBFA;\n",
              "      box-shadow: 0px 1px 2px rgba(60, 64, 67, 0.3), 0px 1px 3px 1px rgba(60, 64, 67, 0.15);\n",
              "      fill: #174EA6;\n",
              "    }\n",
              "\n",
              "    [theme=dark] .colab-df-convert {\n",
              "      background-color: #3B4455;\n",
              "      fill: #D2E3FC;\n",
              "    }\n",
              "\n",
              "    [theme=dark] .colab-df-convert:hover {\n",
              "      background-color: #434B5C;\n",
              "      box-shadow: 0px 1px 3px 1px rgba(0, 0, 0, 0.15);\n",
              "      filter: drop-shadow(0px 1px 2px rgba(0, 0, 0, 0.3));\n",
              "      fill: #FFFFFF;\n",
              "    }\n",
              "  </style>\n",
              "\n",
              "      <script>\n",
              "        const buttonEl =\n",
              "          document.querySelector('#df-9079e892-5d5d-464a-b591-f689a173ae82 button.colab-df-convert');\n",
              "        buttonEl.style.display =\n",
              "          google.colab.kernel.accessAllowed ? 'block' : 'none';\n",
              "\n",
              "        async function convertToInteractive(key) {\n",
              "          const element = document.querySelector('#df-9079e892-5d5d-464a-b591-f689a173ae82');\n",
              "          const dataTable =\n",
              "            await google.colab.kernel.invokeFunction('convertToInteractive',\n",
              "                                                     [key], {});\n",
              "          if (!dataTable) return;\n",
              "\n",
              "          const docLinkHtml = 'Like what you see? Visit the ' +\n",
              "            '<a target=\"_blank\" href=https://colab.research.google.com/notebooks/data_table.ipynb>data table notebook</a>'\n",
              "            + ' to learn more about interactive tables.';\n",
              "          element.innerHTML = '';\n",
              "          dataTable['output_type'] = 'display_data';\n",
              "          await google.colab.output.renderOutput(dataTable, element);\n",
              "          const docLink = document.createElement('div');\n",
              "          docLink.innerHTML = docLinkHtml;\n",
              "          element.appendChild(docLink);\n",
              "        }\n",
              "      </script>\n",
              "    </div>\n",
              "  </div>\n",
              "  "
            ]
          },
          "metadata": {},
          "execution_count": 73
        }
      ]
    },
    {
      "cell_type": "code",
      "source": [
        "df.describe()"
      ],
      "metadata": {
        "colab": {
          "base_uri": "https://localhost:8080/",
          "height": 300
        },
        "id": "j1ESnZ-pJnQj",
        "outputId": "d533676b-7328-4ecf-ead4-3ffb6fe1660c"
      },
      "execution_count": null,
      "outputs": [
        {
          "output_type": "execute_result",
          "data": {
            "text/plain": [
              "                low          high          open         close        volume\n",
              "count  3.113276e+06  3.113276e+06  3.113276e+06  3.113276e+06  3.113276e+06\n",
              "mean   1.152825e+04  1.154230e+04  1.153537e+04  1.153541e+04  9.689568e+00\n",
              "std    1.490292e+04  1.492446e+04  1.491374e+04  1.491379e+04  2.239875e+01\n",
              "min    6.000000e-02  6.000000e-02  6.000000e-02  6.000000e-02  1.000000e-08\n",
              "25%    1.849557e+03  1.850000e+03  1.849925e+03  1.849980e+03  1.331197e+00\n",
              "50%    7.099990e+03  7.105000e+03  7.102045e+03  7.102060e+03  3.707298e+00\n",
              "75%    1.067558e+04  1.068550e+04  1.068027e+04  1.068040e+04  9.761575e+00\n",
              "max    6.690000e+04  6.699900e+04  6.694122e+04  6.694122e+04  1.549613e+03"
            ],
            "text/html": [
              "\n",
              "  <div id=\"df-5ff57408-925f-40da-9079-2780a62095c5\">\n",
              "    <div class=\"colab-df-container\">\n",
              "      <div>\n",
              "<style scoped>\n",
              "    .dataframe tbody tr th:only-of-type {\n",
              "        vertical-align: middle;\n",
              "    }\n",
              "\n",
              "    .dataframe tbody tr th {\n",
              "        vertical-align: top;\n",
              "    }\n",
              "\n",
              "    .dataframe thead th {\n",
              "        text-align: right;\n",
              "    }\n",
              "</style>\n",
              "<table border=\"1\" class=\"dataframe\">\n",
              "  <thead>\n",
              "    <tr style=\"text-align: right;\">\n",
              "      <th></th>\n",
              "      <th>low</th>\n",
              "      <th>high</th>\n",
              "      <th>open</th>\n",
              "      <th>close</th>\n",
              "      <th>volume</th>\n",
              "    </tr>\n",
              "  </thead>\n",
              "  <tbody>\n",
              "    <tr>\n",
              "      <th>count</th>\n",
              "      <td>3.113276e+06</td>\n",
              "      <td>3.113276e+06</td>\n",
              "      <td>3.113276e+06</td>\n",
              "      <td>3.113276e+06</td>\n",
              "      <td>3.113276e+06</td>\n",
              "    </tr>\n",
              "    <tr>\n",
              "      <th>mean</th>\n",
              "      <td>1.152825e+04</td>\n",
              "      <td>1.154230e+04</td>\n",
              "      <td>1.153537e+04</td>\n",
              "      <td>1.153541e+04</td>\n",
              "      <td>9.689568e+00</td>\n",
              "    </tr>\n",
              "    <tr>\n",
              "      <th>std</th>\n",
              "      <td>1.490292e+04</td>\n",
              "      <td>1.492446e+04</td>\n",
              "      <td>1.491374e+04</td>\n",
              "      <td>1.491379e+04</td>\n",
              "      <td>2.239875e+01</td>\n",
              "    </tr>\n",
              "    <tr>\n",
              "      <th>min</th>\n",
              "      <td>6.000000e-02</td>\n",
              "      <td>6.000000e-02</td>\n",
              "      <td>6.000000e-02</td>\n",
              "      <td>6.000000e-02</td>\n",
              "      <td>1.000000e-08</td>\n",
              "    </tr>\n",
              "    <tr>\n",
              "      <th>25%</th>\n",
              "      <td>1.849557e+03</td>\n",
              "      <td>1.850000e+03</td>\n",
              "      <td>1.849925e+03</td>\n",
              "      <td>1.849980e+03</td>\n",
              "      <td>1.331197e+00</td>\n",
              "    </tr>\n",
              "    <tr>\n",
              "      <th>50%</th>\n",
              "      <td>7.099990e+03</td>\n",
              "      <td>7.105000e+03</td>\n",
              "      <td>7.102045e+03</td>\n",
              "      <td>7.102060e+03</td>\n",
              "      <td>3.707298e+00</td>\n",
              "    </tr>\n",
              "    <tr>\n",
              "      <th>75%</th>\n",
              "      <td>1.067558e+04</td>\n",
              "      <td>1.068550e+04</td>\n",
              "      <td>1.068027e+04</td>\n",
              "      <td>1.068040e+04</td>\n",
              "      <td>9.761575e+00</td>\n",
              "    </tr>\n",
              "    <tr>\n",
              "      <th>max</th>\n",
              "      <td>6.690000e+04</td>\n",
              "      <td>6.699900e+04</td>\n",
              "      <td>6.694122e+04</td>\n",
              "      <td>6.694122e+04</td>\n",
              "      <td>1.549613e+03</td>\n",
              "    </tr>\n",
              "  </tbody>\n",
              "</table>\n",
              "</div>\n",
              "      <button class=\"colab-df-convert\" onclick=\"convertToInteractive('df-5ff57408-925f-40da-9079-2780a62095c5')\"\n",
              "              title=\"Convert this dataframe to an interactive table.\"\n",
              "              style=\"display:none;\">\n",
              "        \n",
              "  <svg xmlns=\"http://www.w3.org/2000/svg\" height=\"24px\"viewBox=\"0 0 24 24\"\n",
              "       width=\"24px\">\n",
              "    <path d=\"M0 0h24v24H0V0z\" fill=\"none\"/>\n",
              "    <path d=\"M18.56 5.44l.94 2.06.94-2.06 2.06-.94-2.06-.94-.94-2.06-.94 2.06-2.06.94zm-11 1L8.5 8.5l.94-2.06 2.06-.94-2.06-.94L8.5 2.5l-.94 2.06-2.06.94zm10 10l.94 2.06.94-2.06 2.06-.94-2.06-.94-.94-2.06-.94 2.06-2.06.94z\"/><path d=\"M17.41 7.96l-1.37-1.37c-.4-.4-.92-.59-1.43-.59-.52 0-1.04.2-1.43.59L10.3 9.45l-7.72 7.72c-.78.78-.78 2.05 0 2.83L4 21.41c.39.39.9.59 1.41.59.51 0 1.02-.2 1.41-.59l7.78-7.78 2.81-2.81c.8-.78.8-2.07 0-2.86zM5.41 20L4 18.59l7.72-7.72 1.47 1.35L5.41 20z\"/>\n",
              "  </svg>\n",
              "      </button>\n",
              "      \n",
              "  <style>\n",
              "    .colab-df-container {\n",
              "      display:flex;\n",
              "      flex-wrap:wrap;\n",
              "      gap: 12px;\n",
              "    }\n",
              "\n",
              "    .colab-df-convert {\n",
              "      background-color: #E8F0FE;\n",
              "      border: none;\n",
              "      border-radius: 50%;\n",
              "      cursor: pointer;\n",
              "      display: none;\n",
              "      fill: #1967D2;\n",
              "      height: 32px;\n",
              "      padding: 0 0 0 0;\n",
              "      width: 32px;\n",
              "    }\n",
              "\n",
              "    .colab-df-convert:hover {\n",
              "      background-color: #E2EBFA;\n",
              "      box-shadow: 0px 1px 2px rgba(60, 64, 67, 0.3), 0px 1px 3px 1px rgba(60, 64, 67, 0.15);\n",
              "      fill: #174EA6;\n",
              "    }\n",
              "\n",
              "    [theme=dark] .colab-df-convert {\n",
              "      background-color: #3B4455;\n",
              "      fill: #D2E3FC;\n",
              "    }\n",
              "\n",
              "    [theme=dark] .colab-df-convert:hover {\n",
              "      background-color: #434B5C;\n",
              "      box-shadow: 0px 1px 3px 1px rgba(0, 0, 0, 0.15);\n",
              "      filter: drop-shadow(0px 1px 2px rgba(0, 0, 0, 0.3));\n",
              "      fill: #FFFFFF;\n",
              "    }\n",
              "  </style>\n",
              "\n",
              "      <script>\n",
              "        const buttonEl =\n",
              "          document.querySelector('#df-5ff57408-925f-40da-9079-2780a62095c5 button.colab-df-convert');\n",
              "        buttonEl.style.display =\n",
              "          google.colab.kernel.accessAllowed ? 'block' : 'none';\n",
              "\n",
              "        async function convertToInteractive(key) {\n",
              "          const element = document.querySelector('#df-5ff57408-925f-40da-9079-2780a62095c5');\n",
              "          const dataTable =\n",
              "            await google.colab.kernel.invokeFunction('convertToInteractive',\n",
              "                                                     [key], {});\n",
              "          if (!dataTable) return;\n",
              "\n",
              "          const docLinkHtml = 'Like what you see? Visit the ' +\n",
              "            '<a target=\"_blank\" href=https://colab.research.google.com/notebooks/data_table.ipynb>data table notebook</a>'\n",
              "            + ' to learn more about interactive tables.';\n",
              "          element.innerHTML = '';\n",
              "          dataTable['output_type'] = 'display_data';\n",
              "          await google.colab.output.renderOutput(dataTable, element);\n",
              "          const docLink = document.createElement('div');\n",
              "          docLink.innerHTML = docLinkHtml;\n",
              "          element.appendChild(docLink);\n",
              "        }\n",
              "      </script>\n",
              "    </div>\n",
              "  </div>\n",
              "  "
            ]
          },
          "metadata": {},
          "execution_count": 74
        }
      ]
    },
    {
      "cell_type": "code",
      "source": [
        "df.info()"
      ],
      "metadata": {
        "colab": {
          "base_uri": "https://localhost:8080/"
        },
        "id": "pXPonb8OLCx-",
        "outputId": "77d2bc2d-1aed-4a14-eb95-e8817f4771bc"
      },
      "execution_count": null,
      "outputs": [
        {
          "output_type": "stream",
          "name": "stdout",
          "text": [
            "<class 'pandas.core.frame.DataFrame'>\n",
            "RangeIndex: 3113276 entries, 0 to 3113275\n",
            "Data columns (total 6 columns):\n",
            " #   Column  Dtype  \n",
            "---  ------  -----  \n",
            " 0   time    object \n",
            " 1   low     float64\n",
            " 2   high    float64\n",
            " 3   open    float64\n",
            " 4   close   float64\n",
            " 5   volume  float64\n",
            "dtypes: float64(5), object(1)\n",
            "memory usage: 142.5+ MB\n"
          ]
        }
      ]
    },
    {
      "cell_type": "code",
      "source": [
        "df_datetype = df.astype({'time': 'datetime64'})"
      ],
      "metadata": {
        "id": "I7LhLf4vLI7c"
      },
      "execution_count": null,
      "outputs": []
    },
    {
      "cell_type": "code",
      "source": [
        "df_datetype.info()"
      ],
      "metadata": {
        "colab": {
          "base_uri": "https://localhost:8080/"
        },
        "id": "YPIr7JmzLbTM",
        "outputId": "1456b4d1-7413-4415-8949-7b293741f6ed"
      },
      "execution_count": null,
      "outputs": [
        {
          "output_type": "stream",
          "name": "stdout",
          "text": [
            "<class 'pandas.core.frame.DataFrame'>\n",
            "RangeIndex: 3113276 entries, 0 to 3113275\n",
            "Data columns (total 6 columns):\n",
            " #   Column  Dtype         \n",
            "---  ------  -----         \n",
            " 0   time    datetime64[ns]\n",
            " 1   low     float64       \n",
            " 2   high    float64       \n",
            " 3   open    float64       \n",
            " 4   close   float64       \n",
            " 5   volume  float64       \n",
            "dtypes: datetime64[ns](1), float64(5)\n",
            "memory usage: 142.5 MB\n"
          ]
        }
      ]
    },
    {
      "cell_type": "code",
      "source": [
        "df_datetype.head()"
      ],
      "metadata": {
        "colab": {
          "base_uri": "https://localhost:8080/",
          "height": 206
        },
        "id": "2x0eDFyGLeZX",
        "outputId": "e6540b4a-5f4f-4e92-e36b-b6999a075d0a"
      },
      "execution_count": null,
      "outputs": [
        {
          "output_type": "execute_result",
          "data": {
            "text/plain": [
              "                 time       low      high      open     close    volume\n",
              "0 2021-10-30 03:00:00  61868.81  61920.00  61888.18  61919.98  2.946079\n",
              "1 2021-10-30 02:59:00  61882.74  61912.67  61903.16  61882.74  2.942357\n",
              "2 2021-10-30 02:58:00  61854.82  61907.96  61854.82  61903.15  3.047848\n",
              "3 2021-10-30 02:57:00  61848.04  61883.02  61883.01  61851.39  3.381070\n",
              "4 2021-10-30 02:56:00  61879.33  61925.42  61907.47  61882.28  5.663128"
            ],
            "text/html": [
              "\n",
              "  <div id=\"df-ae012b83-a368-487c-bc6e-51f33b63236e\">\n",
              "    <div class=\"colab-df-container\">\n",
              "      <div>\n",
              "<style scoped>\n",
              "    .dataframe tbody tr th:only-of-type {\n",
              "        vertical-align: middle;\n",
              "    }\n",
              "\n",
              "    .dataframe tbody tr th {\n",
              "        vertical-align: top;\n",
              "    }\n",
              "\n",
              "    .dataframe thead th {\n",
              "        text-align: right;\n",
              "    }\n",
              "</style>\n",
              "<table border=\"1\" class=\"dataframe\">\n",
              "  <thead>\n",
              "    <tr style=\"text-align: right;\">\n",
              "      <th></th>\n",
              "      <th>time</th>\n",
              "      <th>low</th>\n",
              "      <th>high</th>\n",
              "      <th>open</th>\n",
              "      <th>close</th>\n",
              "      <th>volume</th>\n",
              "    </tr>\n",
              "  </thead>\n",
              "  <tbody>\n",
              "    <tr>\n",
              "      <th>0</th>\n",
              "      <td>2021-10-30 03:00:00</td>\n",
              "      <td>61868.81</td>\n",
              "      <td>61920.00</td>\n",
              "      <td>61888.18</td>\n",
              "      <td>61919.98</td>\n",
              "      <td>2.946079</td>\n",
              "    </tr>\n",
              "    <tr>\n",
              "      <th>1</th>\n",
              "      <td>2021-10-30 02:59:00</td>\n",
              "      <td>61882.74</td>\n",
              "      <td>61912.67</td>\n",
              "      <td>61903.16</td>\n",
              "      <td>61882.74</td>\n",
              "      <td>2.942357</td>\n",
              "    </tr>\n",
              "    <tr>\n",
              "      <th>2</th>\n",
              "      <td>2021-10-30 02:58:00</td>\n",
              "      <td>61854.82</td>\n",
              "      <td>61907.96</td>\n",
              "      <td>61854.82</td>\n",
              "      <td>61903.15</td>\n",
              "      <td>3.047848</td>\n",
              "    </tr>\n",
              "    <tr>\n",
              "      <th>3</th>\n",
              "      <td>2021-10-30 02:57:00</td>\n",
              "      <td>61848.04</td>\n",
              "      <td>61883.02</td>\n",
              "      <td>61883.01</td>\n",
              "      <td>61851.39</td>\n",
              "      <td>3.381070</td>\n",
              "    </tr>\n",
              "    <tr>\n",
              "      <th>4</th>\n",
              "      <td>2021-10-30 02:56:00</td>\n",
              "      <td>61879.33</td>\n",
              "      <td>61925.42</td>\n",
              "      <td>61907.47</td>\n",
              "      <td>61882.28</td>\n",
              "      <td>5.663128</td>\n",
              "    </tr>\n",
              "  </tbody>\n",
              "</table>\n",
              "</div>\n",
              "      <button class=\"colab-df-convert\" onclick=\"convertToInteractive('df-ae012b83-a368-487c-bc6e-51f33b63236e')\"\n",
              "              title=\"Convert this dataframe to an interactive table.\"\n",
              "              style=\"display:none;\">\n",
              "        \n",
              "  <svg xmlns=\"http://www.w3.org/2000/svg\" height=\"24px\"viewBox=\"0 0 24 24\"\n",
              "       width=\"24px\">\n",
              "    <path d=\"M0 0h24v24H0V0z\" fill=\"none\"/>\n",
              "    <path d=\"M18.56 5.44l.94 2.06.94-2.06 2.06-.94-2.06-.94-.94-2.06-.94 2.06-2.06.94zm-11 1L8.5 8.5l.94-2.06 2.06-.94-2.06-.94L8.5 2.5l-.94 2.06-2.06.94zm10 10l.94 2.06.94-2.06 2.06-.94-2.06-.94-.94-2.06-.94 2.06-2.06.94z\"/><path d=\"M17.41 7.96l-1.37-1.37c-.4-.4-.92-.59-1.43-.59-.52 0-1.04.2-1.43.59L10.3 9.45l-7.72 7.72c-.78.78-.78 2.05 0 2.83L4 21.41c.39.39.9.59 1.41.59.51 0 1.02-.2 1.41-.59l7.78-7.78 2.81-2.81c.8-.78.8-2.07 0-2.86zM5.41 20L4 18.59l7.72-7.72 1.47 1.35L5.41 20z\"/>\n",
              "  </svg>\n",
              "      </button>\n",
              "      \n",
              "  <style>\n",
              "    .colab-df-container {\n",
              "      display:flex;\n",
              "      flex-wrap:wrap;\n",
              "      gap: 12px;\n",
              "    }\n",
              "\n",
              "    .colab-df-convert {\n",
              "      background-color: #E8F0FE;\n",
              "      border: none;\n",
              "      border-radius: 50%;\n",
              "      cursor: pointer;\n",
              "      display: none;\n",
              "      fill: #1967D2;\n",
              "      height: 32px;\n",
              "      padding: 0 0 0 0;\n",
              "      width: 32px;\n",
              "    }\n",
              "\n",
              "    .colab-df-convert:hover {\n",
              "      background-color: #E2EBFA;\n",
              "      box-shadow: 0px 1px 2px rgba(60, 64, 67, 0.3), 0px 1px 3px 1px rgba(60, 64, 67, 0.15);\n",
              "      fill: #174EA6;\n",
              "    }\n",
              "\n",
              "    [theme=dark] .colab-df-convert {\n",
              "      background-color: #3B4455;\n",
              "      fill: #D2E3FC;\n",
              "    }\n",
              "\n",
              "    [theme=dark] .colab-df-convert:hover {\n",
              "      background-color: #434B5C;\n",
              "      box-shadow: 0px 1px 3px 1px rgba(0, 0, 0, 0.15);\n",
              "      filter: drop-shadow(0px 1px 2px rgba(0, 0, 0, 0.3));\n",
              "      fill: #FFFFFF;\n",
              "    }\n",
              "  </style>\n",
              "\n",
              "      <script>\n",
              "        const buttonEl =\n",
              "          document.querySelector('#df-ae012b83-a368-487c-bc6e-51f33b63236e button.colab-df-convert');\n",
              "        buttonEl.style.display =\n",
              "          google.colab.kernel.accessAllowed ? 'block' : 'none';\n",
              "\n",
              "        async function convertToInteractive(key) {\n",
              "          const element = document.querySelector('#df-ae012b83-a368-487c-bc6e-51f33b63236e');\n",
              "          const dataTable =\n",
              "            await google.colab.kernel.invokeFunction('convertToInteractive',\n",
              "                                                     [key], {});\n",
              "          if (!dataTable) return;\n",
              "\n",
              "          const docLinkHtml = 'Like what you see? Visit the ' +\n",
              "            '<a target=\"_blank\" href=https://colab.research.google.com/notebooks/data_table.ipynb>data table notebook</a>'\n",
              "            + ' to learn more about interactive tables.';\n",
              "          element.innerHTML = '';\n",
              "          dataTable['output_type'] = 'display_data';\n",
              "          await google.colab.output.renderOutput(dataTable, element);\n",
              "          const docLink = document.createElement('div');\n",
              "          docLink.innerHTML = docLinkHtml;\n",
              "          element.appendChild(docLink);\n",
              "        }\n",
              "      </script>\n",
              "    </div>\n",
              "  </div>\n",
              "  "
            ]
          },
          "metadata": {},
          "execution_count": 81
        }
      ]
    },
    {
      "cell_type": "code",
      "source": [
        "df_datetype.set_index(\"time\").close.plot(figsize=(24,7), title=\"Bitcoin Weighted Price\")"
      ],
      "metadata": {
        "colab": {
          "base_uri": "https://localhost:8080/",
          "height": 424
        },
        "id": "8HWTcEuULg2b",
        "outputId": "bf16334f-93bc-4fea-af8a-9a268189108c"
      },
      "execution_count": null,
      "outputs": [
        {
          "output_type": "execute_result",
          "data": {
            "text/plain": [
              "<matplotlib.axes._subplots.AxesSubplot at 0x7fa7bfaf6ad0>"
            ]
          },
          "metadata": {},
          "execution_count": 82
        },
        {
          "output_type": "display_data",
          "data": {
            "text/plain": [
              "<Figure size 1728x504 with 1 Axes>"
            ],
            "image/png": "[encoded data removed]"
          },
          "metadata": {}
        }
      ]
    },
    {
      "cell_type": "code",
      "source": [
        "plt.figure(figsize=(15,12))\n",
        "plt.suptitle('Lag Plots', fontsize=22)\n",
        "\n",
        "plt.subplot(3,3,1)\n",
        "pd.plotting.lag_plot(df_datetype['close'], lag=1) #minute lag\n",
        "plt.title('1 Minute Lag')\n",
        "\n",
        "plt.subplot(3,3,2)\n",
        "pd.plotting.lag_plot(df_datetype['close'], lag=60) #hourley lag\n",
        "plt.title('1 Hour Lag')\n",
        "\n",
        "plt.subplot(3,3,3)\n",
        "pd.plotting.lag_plot(df_datetype['close'], lag=1440) #Daily lag\n",
        "plt.title('Daily Lag')\n",
        "\n",
        "plt.subplot(3,3,4)\n",
        "pd.plotting.lag_plot(df_datetype['close'], lag=10080) #weekly lag\n",
        "plt.title('Weekly Lag')\n",
        "\n",
        "plt.subplot(3,3,5)\n",
        "pd.plotting.lag_plot(df_datetype['close'], lag=43200) #month lag\n",
        "plt.title('1 Month Lag')\n",
        "\n",
        "plt.legend()\n",
        "plt.show()"
      ],
      "metadata": {
        "colab": {
          "base_uri": "https://localhost:8080/",
          "height": 585
        },
        "id": "yY3zpYECL76d",
        "outputId": "e3624ec1-66a5-4521-d7ed-69ee449a1d5a"
      },
      "execution_count": null,
      "outputs": [
        {
          "output_type": "stream",
          "name": "stderr",
          "text": [
            "WARNING:matplotlib.legend:No handles with labels found to put in legend.\n"
          ]
        },
        {
          "output_type": "display_data",
          "data": {
            "text/plain": [
              "<Figure size 1080x864 with 5 Axes>"
            ],
            "image/png": "[encoded data removed]"
          },
          "metadata": {}
        }
      ]
    },
    {
      "cell_type": "markdown",
      "source": [
        "**Making data ready for LSTM**"
      ],
      "metadata": {
        "id": "Fb2c0ShhM0w_"
      }
    },
    {
      "cell_type": "code",
      "source": [
        "df_datetype['date'] = pd.to_datetime(df_datetype['time'],unit='s').dt.date\n",
        "\n",
        "display(df_datetype.head())\n",
        "\n",
        "group = df_datetype.groupby('date')\n",
        "\n",
        "btc_closing_price_groupby_date = group['close'].mean()"
      ],
      "metadata": {
        "colab": {
          "base_uri": "https://localhost:8080/",
          "height": 206
        },
        "id": "EKor09rTMcVf",
        "outputId": "cbd762fd-9bd4-43ae-85d3-47ddc017a2cb"
      },
      "execution_count": null,
      "outputs": [
        {
          "output_type": "display_data",
          "data": {
            "text/plain": [
              "                 time       low      high      open     close    volume  \\\n",
              "0 2021-10-30 03:00:00  61868.81  61920.00  61888.18  61919.98  2.946079   \n",
              "1 2021-10-30 02:59:00  61882.74  61912.67  61903.16  61882.74  2.942357   \n",
              "2 2021-10-30 02:58:00  61854.82  61907.96  61854.82  61903.15  3.047848   \n",
              "3 2021-10-30 02:57:00  61848.04  61883.02  61883.01  61851.39  3.381070   \n",
              "4 2021-10-30 02:56:00  61879.33  61925.42  61907.47  61882.28  5.663128   \n",
              "\n",
              "         date  \n",
              "0  2021-10-30  \n",
              "1  2021-10-30  \n",
              "2  2021-10-30  \n",
              "3  2021-10-30  \n",
              "4  2021-10-30  "
            ],
            "text/html": [
              "\n",
              "  <div id=\"df-0317d153-005a-48bd-aa90-a83b2a371b4e\">\n",
              "    <div class=\"colab-df-container\">\n",
              "      <div>\n",
              "<style scoped>\n",
              "    .dataframe tbody tr th:only-of-type {\n",
              "        vertical-align: middle;\n",
              "    }\n",
              "\n",
              "    .dataframe tbody tr th {\n",
              "        vertical-align: top;\n",
              "    }\n",
              "\n",
              "    .dataframe thead th {\n",
              "        text-align: right;\n",
              "    }\n",
              "</style>\n",
              "<table border=\"1\" class=\"dataframe\">\n",
              "  <thead>\n",
              "    <tr style=\"text-align: right;\">\n",
              "      <th></th>\n",
              "      <th>time</th>\n",
              "      <th>low</th>\n",
              "      <th>high</th>\n",
              "      <th>open</th>\n",
              "      <th>close</th>\n",
              "      <th>volume</th>\n",
              "      <th>date</th>\n",
              "    </tr>\n",
              "  </thead>\n",
              "  <tbody>\n",
              "    <tr>\n",
              "      <th>0</th>\n",
              "      <td>2021-10-30 03:00:00</td>\n",
              "      <td>61868.81</td>\n",
              "      <td>61920.00</td>\n",
              "      <td>61888.18</td>\n",
              "      <td>61919.98</td>\n",
              "      <td>2.946079</td>\n",
              "      <td>2021-10-30</td>\n",
              "    </tr>\n",
              "    <tr>\n",
              "      <th>1</th>\n",
              "      <td>2021-10-30 02:59:00</td>\n",
              "      <td>61882.74</td>\n",
              "      <td>61912.67</td>\n",
              "      <td>61903.16</td>\n",
              "      <td>61882.74</td>\n",
              "      <td>2.942357</td>\n",
              "      <td>2021-10-30</td>\n",
              "    </tr>\n",
              "    <tr>\n",
              "      <th>2</th>\n",
              "      <td>2021-10-30 02:58:00</td>\n",
              "      <td>61854.82</td>\n",
              "      <td>61907.96</td>\n",
              "      <td>61854.82</td>\n",
              "      <td>61903.15</td>\n",
              "      <td>3.047848</td>\n",
              "      <td>2021-10-30</td>\n",
              "    </tr>\n",
              "    <tr>\n",
              "      <th>3</th>\n",
              "      <td>2021-10-30 02:57:00</td>\n",
              "      <td>61848.04</td>\n",
              "      <td>61883.02</td>\n",
              "      <td>61883.01</td>\n",
              "      <td>61851.39</td>\n",
              "      <td>3.381070</td>\n",
              "      <td>2021-10-30</td>\n",
              "    </tr>\n",
              "    <tr>\n",
              "      <th>4</th>\n",
              "      <td>2021-10-30 02:56:00</td>\n",
              "      <td>61879.33</td>\n",
              "      <td>61925.42</td>\n",
              "      <td>61907.47</td>\n",
              "      <td>61882.28</td>\n",
              "      <td>5.663128</td>\n",
              "      <td>2021-10-30</td>\n",
              "    </tr>\n",
              "  </tbody>\n",
              "</table>\n",
              "</div>\n",
              "      <button class=\"colab-df-convert\" onclick=\"convertToInteractive('df-0317d153-005a-48bd-aa90-a83b2a371b4e')\"\n",
              "              title=\"Convert this dataframe to an interactive table.\"\n",
              "              style=\"display:none;\">\n",
              "        \n",
              "  <svg xmlns=\"http://www.w3.org/2000/svg\" height=\"24px\"viewBox=\"0 0 24 24\"\n",
              "       width=\"24px\">\n",
              "    <path d=\"M0 0h24v24H0V0z\" fill=\"none\"/>\n",
              "    <path d=\"M18.56 5.44l.94 2.06.94-2.06 2.06-.94-2.06-.94-.94-2.06-.94 2.06-2.06.94zm-11 1L8.5 8.5l.94-2.06 2.06-.94-2.06-.94L8.5 2.5l-.94 2.06-2.06.94zm10 10l.94 2.06.94-2.06 2.06-.94-2.06-.94-.94-2.06-.94 2.06-2.06.94z\"/><path d=\"M17.41 7.96l-1.37-1.37c-.4-.4-.92-.59-1.43-.59-.52 0-1.04.2-1.43.59L10.3 9.45l-7.72 7.72c-.78.78-.78 2.05 0 2.83L4 21.41c.39.39.9.59 1.41.59.51 0 1.02-.2 1.41-.59l7.78-7.78 2.81-2.81c.8-.78.8-2.07 0-2.86zM5.41 20L4 18.59l7.72-7.72 1.47 1.35L5.41 20z\"/>\n",
              "  </svg>\n",
              "      </button>\n",
              "      \n",
              "  <style>\n",
              "    .colab-df-container {\n",
              "      display:flex;\n",
              "      flex-wrap:wrap;\n",
              "      gap: 12px;\n",
              "    }\n",
              "\n",
              "    .colab-df-convert {\n",
              "      background-color: #E8F0FE;\n",
              "      border: none;\n",
              "      border-radius: 50%;\n",
              "      cursor: pointer;\n",
              "      display: none;\n",
              "      fill: #1967D2;\n",
              "      height: 32px;\n",
              "      padding: 0 0 0 0;\n",
              "      width: 32px;\n",
              "    }\n",
              "\n",
              "    .colab-df-convert:hover {\n",
              "      background-color: #E2EBFA;\n",
              "      box-shadow: 0px 1px 2px rgba(60, 64, 67, 0.3), 0px 1px 3px 1px rgba(60, 64, 67, 0.15);\n",
              "      fill: #174EA6;\n",
              "    }\n",
              "\n",
              "    [theme=dark] .colab-df-convert {\n",
              "      background-color: #3B4455;\n",
              "      fill: #D2E3FC;\n",
              "    }\n",
              "\n",
              "    [theme=dark] .colab-df-convert:hover {\n",
              "      background-color: #434B5C;\n",
              "      box-shadow: 0px 1px 3px 1px rgba(0, 0, 0, 0.15);\n",
              "      filter: drop-shadow(0px 1px 2px rgba(0, 0, 0, 0.3));\n",
              "      fill: #FFFFFF;\n",
              "    }\n",
              "  </style>\n",
              "\n",
              "      <script>\n",
              "        const buttonEl =\n",
              "          document.querySelector('#df-0317d153-005a-48bd-aa90-a83b2a371b4e button.colab-df-convert');\n",
              "        buttonEl.style.display =\n",
              "          google.colab.kernel.accessAllowed ? 'block' : 'none';\n",
              "\n",
              "        async function convertToInteractive(key) {\n",
              "          const element = document.querySelector('#df-0317d153-005a-48bd-aa90-a83b2a371b4e');\n",
              "          const dataTable =\n",
              "            await google.colab.kernel.invokeFunction('convertToInteractive',\n",
              "                                                     [key], {});\n",
              "          if (!dataTable) return;\n",
              "\n",
              "          const docLinkHtml = 'Like what you see? Visit the ' +\n",
              "            '<a target=\"_blank\" href=https://colab.research.google.com/notebooks/data_table.ipynb>data table notebook</a>'\n",
              "            + ' to learn more about interactive tables.';\n",
              "          element.innerHTML = '';\n",
              "          dataTable['output_type'] = 'display_data';\n",
              "          await google.colab.output.renderOutput(dataTable, element);\n",
              "          const docLink = document.createElement('div');\n",
              "          docLink.innerHTML = docLinkHtml;\n",
              "          element.appendChild(docLink);\n",
              "        }\n",
              "      </script>\n",
              "    </div>\n",
              "  </div>\n",
              "  "
            ]
          },
          "metadata": {}
        }
      ]
    },
    {
      "cell_type": "markdown",
      "source": [
        "**Train Test Split**"
      ],
      "metadata": {
        "id": "dBa8HF8lNEt2"
      }
    },
    {
      "cell_type": "code",
      "source": [
        "prediction_days = 60\n",
        "\n",
        "\n",
        "df_train= btc_closing_price_groupby_date[:len(btc_closing_price_groupby_date)-prediction_days].values.reshape(-1,1)\n",
        "\n",
        "\n",
        "\n",
        "df_test= btc_closing_price_groupby_date[len(btc_closing_price_groupby_date)-prediction_days:].values.reshape(-1,1)\n"
      ],
      "metadata": {
        "id": "negXe0LgNEbn"
      },
      "execution_count": null,
      "outputs": []
    },
    {
      "cell_type": "code",
      "source": [
        "chosen_col = 'Close'\n",
        "\n",
        "fig, ax = plt.subplots(1, figsize=(13, 7))\n",
        "ax.plot(df_train, label='Train', linewidth=2)\n",
        "ax.plot(df_test, label='Test', linewidth=2)\n",
        "ax.set_ylabel('Price USD', fontsize=14)\n",
        "ax.set_title('', fontsize=16)\n",
        "ax.legend(loc='best', fontsize=16)"
      ],
      "metadata": {
        "colab": {
          "base_uri": "https://localhost:8080/",
          "height": 443
        },
        "id": "NNW3_nkcNN_l",
        "outputId": "25b54a35-f846-47fa-f39b-eeb62c7edbba"
      },
      "execution_count": null,
      "outputs": [
        {
          "output_type": "execute_result",
          "data": {
            "text/plain": [
              "<matplotlib.legend.Legend at 0x7fa7be75b990>"
            ]
          },
          "metadata": {},
          "execution_count": 91
        },
        {
          "output_type": "display_data",
          "data": {
            "text/plain": [
              "<Figure size 936x504 with 1 Axes>"
            ],
            "image/png": "[encoded data removed]"
          },
          "metadata": {}
        }
      ]
    },
    {
      "cell_type": "code",
      "source": [
        "scaler_train = MinMaxScaler(feature_range=(0, 1))\n",
        "scaled_train = scaler_train.fit_transform(df_train)\n",
        "\n",
        "scaler_test = MinMaxScaler(feature_range=(0, 1))\n",
        "scaled_test = scaler_test.fit_transform(df_test)"
      ],
      "metadata": {
        "id": "WC0pLHHiNoys"
      },
      "execution_count": null,
      "outputs": []
    },
    {
      "cell_type": "markdown",
      "source": [
        "**Data set generator**"
      ],
      "metadata": {
        "id": "zaQ4_nmaNv7u"
      }
    },
    {
      "cell_type": "code",
      "source": [
        "def dataset_generator_lstm(dataset, look_back=5):\n",
        "    # A “lookback period” defines the window-size of how many\n",
        "    # previous timesteps are used in order to predict\n",
        "    # the subsequent timestep. \n",
        "    dataX, dataY = [], []\n",
        "    \n",
        "    for i in range(len(dataset) - look_back):\n",
        "        window_size_x = dataset[i:(i + look_back), 0]\n",
        "        dataX.append(window_size_x)\n",
        "        dataY.append(dataset[i + look_back, 0]) # this is the label or actual y-value\n",
        "    return np.array(dataX), np.array(dataY)\n",
        "\n",
        "trainX, trainY = dataset_generator_lstm(scaled_train)\n",
        "\n",
        "testX, testY = dataset_generator_lstm(scaled_test)\n",
        "\n",
        "print(\"trainX: \", trainX.shape)\n",
        "print(\"trainY: \", trainY.shape)\n",
        "print(\"testX: \", testX.shape)\n",
        "print(\"testY\", testY.shape)"
      ],
      "metadata": {
        "colab": {
          "base_uri": "https://localhost:8080/"
        },
        "id": "un7SjxKmNXyI",
        "outputId": "2df525f9-744f-47d0-a537-cb75766e1f1d"
      },
      "execution_count": null,
      "outputs": [
        {
          "output_type": "stream",
          "name": "stdout",
          "text": [
            "trainX:  (2131, 5)\n",
            "trainY:  (2131,)\n",
            "testX:  (55, 5)\n",
            "testY (55,)\n"
          ]
        }
      ]
    },
    {
      "cell_type": "code",
      "source": [
        "print(\"trainX: \", trainX)"
      ],
      "metadata": {
        "colab": {
          "base_uri": "https://localhost:8080/"
        },
        "id": "C4LkQajUNy2-",
        "outputId": "e6e7b5b0-1c04-4672-e357-590465db8b06"
      },
      "execution_count": null,
      "outputs": [
        {
          "output_type": "stream",
          "name": "stdout",
          "text": [
            "trainX:  [[0.00000000e+00 1.44159882e-04 2.79473948e-04 5.34851927e-04\n",
            "  4.90695552e-04]\n",
            " [1.44159882e-04 2.79473948e-04 5.34851927e-04 4.90695552e-04\n",
            "  4.21819458e-04]\n",
            " [2.79473948e-04 5.34851927e-04 4.90695552e-04 4.21819458e-04\n",
            "  7.33745838e-04]\n",
            " ...\n",
            " [7.69797191e-01 7.59576884e-01 7.45106076e-01 7.51304260e-01\n",
            "  7.69632673e-01]\n",
            " [7.59576884e-01 7.45106076e-01 7.51304260e-01 7.69632673e-01\n",
            "  7.65970936e-01]\n",
            " [7.45106076e-01 7.51304260e-01 7.69632673e-01 7.65970936e-01\n",
            "  7.56740572e-01]]\n"
          ]
        }
      ]
    },
    {
      "cell_type": "markdown",
      "source": [
        "**Reshape and train data**"
      ],
      "metadata": {
        "id": "zODjlo4iOErE"
      }
    },
    {
      "cell_type": "code",
      "source": [
        "trainX = np.reshape(trainX, (trainX.shape[0], trainX.shape[1], 1))\n",
        "\n",
        "testX = np.reshape(testX, (testX.shape[0], testX.shape[1], 1 ))\n",
        "\n",
        "print(\"Shape of trainX: \", trainX.shape)\n",
        "print(\"Shape of testX: \", testX.shape)"
      ],
      "metadata": {
        "colab": {
          "base_uri": "https://localhost:8080/"
        },
        "id": "uYbAc4LSODl0",
        "outputId": "59c98355-a8cc-493b-b047-3c5485311672"
      },
      "execution_count": null,
      "outputs": [
        {
          "output_type": "stream",
          "name": "stdout",
          "text": [
            "Shape of trainX:  (2131, 5, 1)\n",
            "Shape of testX:  (55, 5, 1)\n"
          ]
        }
      ]
    },
    {
      "cell_type": "code",
      "source": [
        "print(\"trainX: \", trainX)\n",
        "print(\" ********** \")\n",
        "print(\"testX: \", testX)"
      ],
      "metadata": {
        "colab": {
          "base_uri": "https://localhost:8080/"
        },
        "id": "I-aMGAjWOIlm",
        "outputId": "39e8a985-b7dd-4368-9dfd-38cd27b8aad0"
      },
      "execution_count": null,
      "outputs": [
        {
          "output_type": "stream",
          "name": "stdout",
          "text": [
            "trainX:  [[[0.00000000e+00]\n",
            "  [1.44159882e-04]\n",
            "  [2.79473948e-04]\n",
            "  [5.34851927e-04]\n",
            "  [4.90695552e-04]]\n",
            "\n",
            " [[1.44159882e-04]\n",
            "  [2.79473948e-04]\n",
            "  [5.34851927e-04]\n",
            "  [4.90695552e-04]\n",
            "  [4.21819458e-04]]\n",
            "\n",
            " [[2.79473948e-04]\n",
            "  [5.34851927e-04]\n",
            "  [4.90695552e-04]\n",
            "  [4.21819458e-04]\n",
            "  [7.33745838e-04]]\n",
            "\n",
            " ...\n",
            "\n",
            " [[7.69797191e-01]\n",
            "  [7.59576884e-01]\n",
            "  [7.45106076e-01]\n",
            "  [7.51304260e-01]\n",
            "  [7.69632673e-01]]\n",
            "\n",
            " [[7.59576884e-01]\n",
            "  [7.45106076e-01]\n",
            "  [7.51304260e-01]\n",
            "  [7.69632673e-01]\n",
            "  [7.65970936e-01]]\n",
            "\n",
            " [[7.45106076e-01]\n",
            "  [7.51304260e-01]\n",
            "  [7.69632673e-01]\n",
            "  [7.65970936e-01]\n",
            "  [7.56740572e-01]]]\n",
            " ********** \n",
            "testX:  [[[0.25321869]\n",
            "  [0.33878686]\n",
            "  [0.34931688]\n",
            "  [0.35652903]\n",
            "  [0.36882444]]\n",
            "\n",
            " [[0.33878686]\n",
            "  [0.34931688]\n",
            "  [0.35652903]\n",
            "  [0.36882444]\n",
            "  [0.43055223]]\n",
            "\n",
            " [[0.34931688]\n",
            "  [0.35652903]\n",
            "  [0.36882444]\n",
            "  [0.43055223]\n",
            "  [0.35190522]]\n",
            "\n",
            " [[0.35652903]\n",
            "  [0.36882444]\n",
            "  [0.43055223]\n",
            "  [0.35190522]\n",
            "  [0.19320919]]\n",
            "\n",
            " [[0.36882444]\n",
            "  [0.43055223]\n",
            "  [0.35190522]\n",
            "  [0.19320919]\n",
            "  [0.19855227]]\n",
            "\n",
            " [[0.43055223]\n",
            "  [0.35190522]\n",
            "  [0.19320919]\n",
            "  [0.19855227]\n",
            "  [0.17701621]]\n",
            "\n",
            " [[0.35190522]\n",
            "  [0.19320919]\n",
            "  [0.19855227]\n",
            "  [0.17701621]\n",
            "  [0.15325192]]\n",
            "\n",
            " [[0.19320919]\n",
            "  [0.19855227]\n",
            "  [0.17701621]\n",
            "  [0.15325192]\n",
            "  [0.16480254]]\n",
            "\n",
            " [[0.19855227]\n",
            "  [0.17701621]\n",
            "  [0.15325192]\n",
            "  [0.16480254]\n",
            "  [0.12865804]]\n",
            "\n",
            " [[0.17701621]\n",
            "  [0.15325192]\n",
            "  [0.16480254]\n",
            "  [0.12865804]\n",
            "  [0.18263966]]\n",
            "\n",
            " [[0.15325192]\n",
            "  [0.16480254]\n",
            "  [0.12865804]\n",
            "  [0.18263966]\n",
            "  [0.24906473]]\n",
            "\n",
            " [[0.16480254]\n",
            "  [0.12865804]\n",
            "  [0.18263966]\n",
            "  [0.24906473]\n",
            "  [0.26251689]]\n",
            "\n",
            " [[0.12865804]\n",
            "  [0.18263966]\n",
            "  [0.24906473]\n",
            "  [0.26251689]\n",
            "  [0.24876467]]\n",
            "\n",
            " [[0.18263966]\n",
            "  [0.24906473]\n",
            "  [0.26251689]\n",
            "  [0.24876467]\n",
            "  [0.27712791]]\n",
            "\n",
            " [[0.24906473]\n",
            "  [0.26251689]\n",
            "  [0.24876467]\n",
            "  [0.27712791]\n",
            "  [0.25529524]]\n",
            "\n",
            " [[0.26251689]\n",
            "  [0.24876467]\n",
            "  [0.27712791]\n",
            "  [0.25529524]\n",
            "  [0.12094002]]\n",
            "\n",
            " [[0.24876467]\n",
            "  [0.27712791]\n",
            "  [0.25529524]\n",
            "  [0.12094002]\n",
            "  [0.02665216]]\n",
            "\n",
            " [[0.27712791]\n",
            "  [0.25529524]\n",
            "  [0.12094002]\n",
            "  [0.02665216]\n",
            "  [0.03215063]]\n",
            "\n",
            " [[0.25529524]\n",
            "  [0.12094002]\n",
            "  [0.02665216]\n",
            "  [0.03215063]\n",
            "  [0.09826223]]\n",
            "\n",
            " [[0.12094002]\n",
            "  [0.02665216]\n",
            "  [0.03215063]\n",
            "  [0.09826223]\n",
            "  [0.05653365]]\n",
            "\n",
            " [[0.02665216]\n",
            "  [0.03215063]\n",
            "  [0.09826223]\n",
            "  [0.05653365]\n",
            "  [0.03321796]]\n",
            "\n",
            " [[0.03215063]\n",
            "  [0.09826223]\n",
            "  [0.05653365]\n",
            "  [0.03321796]\n",
            "  [0.04218533]]\n",
            "\n",
            " [[0.09826223]\n",
            "  [0.05653365]\n",
            "  [0.03321796]\n",
            "  [0.04218533]\n",
            "  [0.07336325]]\n",
            "\n",
            " [[0.05653365]\n",
            "  [0.03321796]\n",
            "  [0.04218533]\n",
            "  [0.07336325]\n",
            "  [0.004752  ]]\n",
            "\n",
            " [[0.03321796]\n",
            "  [0.04218533]\n",
            "  [0.07336325]\n",
            "  [0.004752  ]\n",
            "  [0.        ]]\n",
            "\n",
            " [[0.04218533]\n",
            "  [0.07336325]\n",
            "  [0.004752  ]\n",
            "  [0.        ]\n",
            "  [0.06214595]]\n",
            "\n",
            " [[0.07336325]\n",
            "  [0.004752  ]\n",
            "  [0.        ]\n",
            "  [0.06214595]\n",
            "  [0.18340176]]\n",
            "\n",
            " [[0.004752  ]\n",
            "  [0.        ]\n",
            "  [0.06214595]\n",
            "  [0.18340176]\n",
            "  [0.26015549]]\n",
            "\n",
            " [[0.        ]\n",
            "  [0.06214595]\n",
            "  [0.18340176]\n",
            "  [0.26015549]\n",
            "  [0.26810129]]\n",
            "\n",
            " [[0.06214595]\n",
            "  [0.18340176]\n",
            "  [0.26015549]\n",
            "  [0.26810129]\n",
            "  [0.27380695]]\n",
            "\n",
            " [[0.18340176]\n",
            "  [0.26015549]\n",
            "  [0.26810129]\n",
            "  [0.27380695]\n",
            "  [0.35673344]]\n",
            "\n",
            " [[0.26015549]\n",
            "  [0.26810129]\n",
            "  [0.27380695]\n",
            "  [0.35673344]\n",
            "  [0.47981766]]\n",
            "\n",
            " [[0.26810129]\n",
            "  [0.27380695]\n",
            "  [0.35673344]\n",
            "  [0.47981766]\n",
            "  [0.54177128]]\n",
            "\n",
            " [[0.27380695]\n",
            "  [0.35673344]\n",
            "  [0.47981766]\n",
            "  [0.54177128]\n",
            "  [0.5459711 ]]\n",
            "\n",
            " [[0.35673344]\n",
            "  [0.47981766]\n",
            "  [0.54177128]\n",
            "  [0.5459711 ]\n",
            "  [0.55826613]]\n",
            "\n",
            " [[0.47981766]\n",
            "  [0.54177128]\n",
            "  [0.5459711 ]\n",
            "  [0.55826613]\n",
            "  [0.5765067 ]]\n",
            "\n",
            " [[0.54177128]\n",
            "  [0.5459711 ]\n",
            "  [0.55826613]\n",
            "  [0.5765067 ]\n",
            "  [0.64334068]]\n",
            "\n",
            " [[0.5459711 ]\n",
            "  [0.55826613]\n",
            "  [0.5765067 ]\n",
            "  [0.64334068]\n",
            "  [0.63971782]]\n",
            "\n",
            " [[0.55826613]\n",
            "  [0.5765067 ]\n",
            "  [0.64334068]\n",
            "  [0.63971782]\n",
            "  [0.61481564]]\n",
            "\n",
            " [[0.5765067 ]\n",
            "  [0.64334068]\n",
            "  [0.63971782]\n",
            "  [0.61481564]\n",
            "  [0.68357564]]\n",
            "\n",
            " [[0.64334068]\n",
            "  [0.63971782]\n",
            "  [0.61481564]\n",
            "  [0.68357564]\n",
            "  [0.78050369]]\n",
            "\n",
            " [[0.63971782]\n",
            "  [0.61481564]\n",
            "  [0.68357564]\n",
            "  [0.78050369]\n",
            "  [0.8405857 ]]\n",
            "\n",
            " [[0.61481564]\n",
            "  [0.68357564]\n",
            "  [0.78050369]\n",
            "  [0.8405857 ]\n",
            "  [0.82202495]]\n",
            "\n",
            " [[0.68357564]\n",
            "  [0.78050369]\n",
            "  [0.8405857 ]\n",
            "  [0.82202495]\n",
            "  [0.86299335]]\n",
            "\n",
            " [[0.78050369]\n",
            "  [0.8405857 ]\n",
            "  [0.82202495]\n",
            "  [0.86299335]\n",
            "  [0.90375255]]\n",
            "\n",
            " [[0.8405857 ]\n",
            "  [0.82202495]\n",
            "  [0.86299335]\n",
            "  [0.90375255]\n",
            "  [1.        ]]\n",
            "\n",
            " [[0.82202495]\n",
            "  [0.86299335]\n",
            "  [0.90375255]\n",
            "  [1.        ]\n",
            "  [0.97247556]]\n",
            "\n",
            " [[0.86299335]\n",
            "  [0.90375255]\n",
            "  [1.        ]\n",
            "  [0.97247556]\n",
            "  [0.87962325]]\n",
            "\n",
            " [[0.90375255]\n",
            "  [1.        ]\n",
            "  [0.97247556]\n",
            "  [0.87962325]\n",
            "  [0.83248555]]\n",
            "\n",
            " [[1.        ]\n",
            "  [0.97247556]\n",
            "  [0.87962325]\n",
            "  [0.83248555]\n",
            "  [0.81613368]]\n",
            "\n",
            " [[0.97247556]\n",
            "  [0.87962325]\n",
            "  [0.83248555]\n",
            "  [0.81613368]\n",
            "  [0.89829139]]\n",
            "\n",
            " [[0.87962325]\n",
            "  [0.83248555]\n",
            "  [0.81613368]\n",
            "  [0.89829139]\n",
            "  [0.88503214]]\n",
            "\n",
            " [[0.83248555]\n",
            "  [0.81613368]\n",
            "  [0.89829139]\n",
            "  [0.88503214]\n",
            "  [0.76423277]]\n",
            "\n",
            " [[0.81613368]\n",
            "  [0.89829139]\n",
            "  [0.88503214]\n",
            "  [0.76423277]\n",
            "  [0.7963598 ]]\n",
            "\n",
            " [[0.89829139]\n",
            "  [0.88503214]\n",
            "  [0.76423277]\n",
            "  [0.7963598 ]\n",
            "  [0.85391712]]]\n"
          ]
        }
      ]
    },
    {
      "cell_type": "markdown",
      "source": [
        "**Final LSTN**"
      ],
      "metadata": {
        "id": "DzvmxeoeOPXu"
      }
    },
    {
      "cell_type": "code",
      "source": [
        "print(\"trainX.shape[1] - i.e. timesteps in input_shape = (timesteps, n_features) \", trainX.shape[1])\n",
        "print(\"trainX.shape[2] - i.e. n_features in input_shape = (timesteps, n_features) \", trainX.shape[2])"
      ],
      "metadata": {
        "colab": {
          "base_uri": "https://localhost:8080/"
        },
        "id": "jeJFUmyYOOX5",
        "outputId": "49961a05-2ec1-4623-a121-c74274f547da"
      },
      "execution_count": null,
      "outputs": [
        {
          "output_type": "stream",
          "name": "stdout",
          "text": [
            "trainX.shape[1] - i.e. timesteps in input_shape = (timesteps, n_features)  5\n",
            "trainX.shape[2] - i.e. n_features in input_shape = (timesteps, n_features)  1\n"
          ]
        }
      ]
    },
    {
      "cell_type": "code",
      "source": [
        "regressor = Sequential()\n",
        "\n",
        "regressor.add(LSTM(units = 128, activation = 'relu',return_sequences=True, input_shape = (trainX.shape[1], trainX.shape[2])))\n",
        "regressor.add(Dropout(0.2))\n",
        "\n",
        "regressor.add(LSTM(units = 64, input_shape = (trainX.shape[1], trainX.shape[2])))\n",
        "\n",
        "regressor.add(Dropout(0.2))\n",
        "\n",
        "regressor.add(Dense(units = 1))\n",
        "\n",
        "regressor.summary()"
      ],
      "metadata": {
        "colab": {
          "base_uri": "https://localhost:8080/"
        },
        "id": "CBJ9iPaaORs8",
        "outputId": "34b0e4a0-9c3d-4cd8-b3d6-36fd0f759340"
      },
      "execution_count": null,
      "outputs": [
        {
          "output_type": "stream",
          "name": "stdout",
          "text": [
            "Model: \"sequential\"\n",
            "_________________________________________________________________\n",
            " Layer (type)                Output Shape              Param #   \n",
            "=================================================================\n",
            " lstm (LSTM)                 (None, 5, 128)            66560     \n",
            "                                                                 \n",
            " dropout (Dropout)           (None, 5, 128)            0         \n",
            "                                                                 \n",
            " lstm_1 (LSTM)               (None, 64)                49408     \n",
            "                                                                 \n",
            " dropout_1 (Dropout)         (None, 64)                0         \n",
            "                                                                 \n",
            " dense (Dense)               (None, 1)                 65        \n",
            "                                                                 \n",
            "=================================================================\n",
            "Total params: 116,033\n",
            "Trainable params: 116,033\n",
            "Non-trainable params: 0\n",
            "_________________________________________________________________\n"
          ]
        }
      ]
    },
    {
      "cell_type": "code",
      "source": [
        "from tensorflow.keras.callbacks import ModelCheckpoint, EarlyStopping\n",
        "\n",
        "# Compiling the LSTM\n",
        "regressor.compile(optimizer = 'adam', loss = 'mean_squared_error')\n",
        "\n",
        "checkpoint_path = 'my_best_model.hdf5'\n",
        "\n",
        "checkpoint = ModelCheckpoint(filepath=checkpoint_path, \n",
        "                             monitor='val_loss',\n",
        "                             verbose=1, \n",
        "                             save_best_only=True,\n",
        "                             mode='min')\n",
        "\n",
        "\n",
        "earlystopping = EarlyStopping(monitor='val_loss', patience=10, restore_best_weights=True)\n",
        "\n",
        "callbacks = [checkpoint, earlystopping]\n",
        "# callbacks = [checkpoint]\n",
        "\n",
        "\n",
        "history = regressor.fit(trainX, trainY, batch_size = 32, epochs = 600, verbose=1, shuffle=False, validation_data=(testX, testY), callbacks=callbacks)"
      ],
      "metadata": {
        "colab": {
          "base_uri": "https://localhost:8080/"
        },
        "id": "pA1z5SvWOgEe",
        "outputId": "efe3d6cc-7267-42f9-ae46-08bb2277547b"
      },
      "execution_count": null,
      "outputs": [
        {
          "output_type": "stream",
          "name": "stdout",
          "text": [
            "Epoch 1/600\n",
            "64/67 [===========================>..] - ETA: 0s - loss: 0.0167\n",
            "Epoch 1: val_loss improved from inf to 0.06086, saving model to my_best_model.hdf5\n",
            "67/67 [==============================] - 6s 29ms/step - loss: 0.0165 - val_loss: 0.0609\n",
            "Epoch 2/600\n",
            "66/67 [============================>.] - ETA: 0s - loss: 0.0271\n",
            "Epoch 2: val_loss improved from 0.06086 to 0.02171, saving model to my_best_model.hdf5\n",
            "67/67 [==============================] - 1s 19ms/step - loss: 0.0271 - val_loss: 0.0217\n",
            "Epoch 3/600\n",
            "66/67 [============================>.] - ETA: 0s - loss: 0.0035\n",
            "Epoch 3: val_loss improved from 0.02171 to 0.01442, saving model to my_best_model.hdf5\n",
            "67/67 [==============================] - 1s 19ms/step - loss: 0.0035 - val_loss: 0.0144\n",
            "Epoch 4/600\n",
            "65/67 [============================>.] - ETA: 0s - loss: 0.0014\n",
            "Epoch 4: val_loss did not improve from 0.01442\n",
            "67/67 [==============================] - 1s 20ms/step - loss: 0.0016 - val_loss: 0.0183\n",
            "Epoch 5/600\n",
            "65/67 [============================>.] - ETA: 0s - loss: 7.6616e-04\n",
            "Epoch 5: val_loss did not improve from 0.01442\n",
            "67/67 [==============================] - 1s 19ms/step - loss: 8.6929e-04 - val_loss: 0.0154\n",
            "Epoch 6/600\n",
            "66/67 [============================>.] - ETA: 0s - loss: 0.0011    \n",
            "Epoch 6: val_loss improved from 0.01442 to 0.01416, saving model to my_best_model.hdf5\n",
            "67/67 [==============================] - 1s 19ms/step - loss: 0.0011 - val_loss: 0.0142\n",
            "Epoch 7/600\n",
            "64/67 [===========================>..] - ETA: 0s - loss: 9.2352e-04\n",
            "Epoch 7: val_loss did not improve from 0.01416\n",
            "67/67 [==============================] - 1s 16ms/step - loss: 0.0011 - val_loss: 0.0142\n",
            "Epoch 8/600\n",
            "66/67 [============================>.] - ETA: 0s - loss: 0.0012    \n",
            "Epoch 8: val_loss did not improve from 0.01416\n",
            "67/67 [==============================] - 1s 18ms/step - loss: 0.0012 - val_loss: 0.0144\n",
            "Epoch 9/600\n",
            "67/67 [==============================] - ETA: 0s - loss: 0.0017\n",
            "Epoch 9: val_loss did not improve from 0.01416\n",
            "67/67 [==============================] - 1s 17ms/step - loss: 0.0017 - val_loss: 0.0146\n",
            "Epoch 10/600\n",
            "67/67 [==============================] - ETA: 0s - loss: 0.0036\n",
            "Epoch 10: val_loss did not improve from 0.01416\n",
            "67/67 [==============================] - 1s 15ms/step - loss: 0.0036 - val_loss: 0.0226\n",
            "Epoch 11/600\n",
            "64/67 [===========================>..] - ETA: 0s - loss: 0.0026\n",
            "Epoch 11: val_loss did not improve from 0.01416\n",
            "67/67 [==============================] - 1s 17ms/step - loss: 0.0029 - val_loss: 0.0187\n",
            "Epoch 12/600\n",
            "67/67 [==============================] - ETA: 0s - loss: 0.0018\n",
            "Epoch 12: val_loss improved from 0.01416 to 0.01397, saving model to my_best_model.hdf5\n",
            "67/67 [==============================] - 1s 16ms/step - loss: 0.0018 - val_loss: 0.0140\n",
            "Epoch 13/600\n",
            "65/67 [============================>.] - ETA: 0s - loss: 0.0012    \n",
            "Epoch 13: val_loss improved from 0.01397 to 0.01394, saving model to my_best_model.hdf5\n",
            "67/67 [==============================] - 1s 20ms/step - loss: 0.0013 - val_loss: 0.0139\n",
            "Epoch 14/600\n",
            "64/67 [===========================>..] - ETA: 0s - loss: 0.0012    \n",
            "Epoch 14: val_loss did not improve from 0.01394\n",
            "67/67 [==============================] - 1s 18ms/step - loss: 0.0014 - val_loss: 0.0142\n",
            "Epoch 15/600\n",
            "66/67 [============================>.] - ETA: 0s - loss: 0.0011    \n",
            "Epoch 15: val_loss improved from 0.01394 to 0.01366, saving model to my_best_model.hdf5\n",
            "67/67 [==============================] - 1s 18ms/step - loss: 0.0011 - val_loss: 0.0137\n",
            "Epoch 16/600\n",
            "65/67 [============================>.] - ETA: 0s - loss: 9.8304e-04\n",
            "Epoch 16: val_loss improved from 0.01366 to 0.01342, saving model to my_best_model.hdf5\n",
            "67/67 [==============================] - 1s 18ms/step - loss: 0.0010 - val_loss: 0.0134\n",
            "Epoch 17/600\n",
            "65/67 [============================>.] - ETA: 0s - loss: 0.0012    \n",
            "Epoch 17: val_loss did not improve from 0.01342\n",
            "67/67 [==============================] - 1s 18ms/step - loss: 0.0014 - val_loss: 0.0135\n",
            "Epoch 18/600\n",
            "65/67 [============================>.] - ETA: 0s - loss: 0.0014    \n",
            "Epoch 18: val_loss did not improve from 0.01342\n",
            "67/67 [==============================] - 1s 20ms/step - loss: 0.0016 - val_loss: 0.0148\n",
            "Epoch 19/600\n",
            "64/67 [===========================>..] - ETA: 0s - loss: 0.0018\n",
            "Epoch 19: val_loss did not improve from 0.01342\n",
            "67/67 [==============================] - 1s 16ms/step - loss: 0.0021 - val_loss: 0.0168\n",
            "Epoch 20/600\n",
            "66/67 [============================>.] - ETA: 0s - loss: 0.0017\n",
            "Epoch 20: val_loss did not improve from 0.01342\n",
            "67/67 [==============================] - 1s 16ms/step - loss: 0.0018 - val_loss: 0.0144\n",
            "Epoch 21/600\n",
            "65/67 [============================>.] - ETA: 0s - loss: 0.0014\n",
            "Epoch 21: val_loss did not improve from 0.01342\n",
            "67/67 [==============================] - 1s 17ms/step - loss: 0.0016 - val_loss: 0.0150\n",
            "Epoch 22/600\n",
            "64/67 [===========================>..] - ETA: 0s - loss: 0.0012    \n",
            "Epoch 22: val_loss improved from 0.01342 to 0.01312, saving model to my_best_model.hdf5\n",
            "67/67 [==============================] - 1s 17ms/step - loss: 0.0014 - val_loss: 0.0131\n",
            "Epoch 23/600\n",
            "65/67 [============================>.] - ETA: 0s - loss: 0.0013    \n",
            "Epoch 23: val_loss did not improve from 0.01312\n",
            "67/67 [==============================] - 1s 16ms/step - loss: 0.0014 - val_loss: 0.0133\n",
            "Epoch 24/600\n",
            "65/67 [============================>.] - ETA: 0s - loss: 0.0011    \n",
            "Epoch 24: val_loss improved from 0.01312 to 0.01285, saving model to my_best_model.hdf5\n",
            "67/67 [==============================] - 1s 15ms/step - loss: 0.0011 - val_loss: 0.0128\n",
            "Epoch 25/600\n",
            "67/67 [==============================] - ETA: 0s - loss: 0.0012    \n",
            "Epoch 25: val_loss did not improve from 0.01285\n",
            "67/67 [==============================] - 1s 19ms/step - loss: 0.0012 - val_loss: 0.0129\n",
            "Epoch 26/600\n",
            "65/67 [============================>.] - ETA: 0s - loss: 0.0011    \n",
            "Epoch 26: val_loss did not improve from 0.01285\n",
            "67/67 [==============================] - 1s 18ms/step - loss: 0.0012 - val_loss: 0.0129\n",
            "Epoch 27/600\n",
            "66/67 [============================>.] - ETA: 0s - loss: 0.0016\n",
            "Epoch 27: val_loss did not improve from 0.01285\n",
            "67/67 [==============================] - 1s 19ms/step - loss: 0.0017 - val_loss: 0.0135\n",
            "Epoch 28/600\n",
            "66/67 [============================>.] - ETA: 0s - loss: 0.0027\n",
            "Epoch 28: val_loss did not improve from 0.01285\n",
            "67/67 [==============================] - 1s 18ms/step - loss: 0.0029 - val_loss: 0.0198\n",
            "Epoch 29/600\n",
            "66/67 [============================>.] - ETA: 0s - loss: 0.0019\n",
            "Epoch 29: val_loss did not improve from 0.01285\n",
            "67/67 [==============================] - 1s 22ms/step - loss: 0.0020 - val_loss: 0.0142\n",
            "Epoch 30/600\n",
            "67/67 [==============================] - ETA: 0s - loss: 0.0015\n",
            "Epoch 30: val_loss improved from 0.01285 to 0.01242, saving model to my_best_model.hdf5\n",
            "67/67 [==============================] - 2s 26ms/step - loss: 0.0015 - val_loss: 0.0124\n",
            "Epoch 31/600\n",
            "64/67 [===========================>..] - ETA: 0s - loss: 0.0013    \n",
            "Epoch 31: val_loss did not improve from 0.01242\n",
            "67/67 [==============================] - 1s 16ms/step - loss: 0.0015 - val_loss: 0.0132\n",
            "Epoch 32/600\n",
            "67/67 [==============================] - ETA: 0s - loss: 0.0012    \n",
            "Epoch 32: val_loss improved from 0.01242 to 0.01230, saving model to my_best_model.hdf5\n",
            "67/67 [==============================] - 1s 15ms/step - loss: 0.0012 - val_loss: 0.0123\n",
            "Epoch 33/600\n",
            "64/67 [===========================>..] - ETA: 0s - loss: 8.5672e-04\n",
            "Epoch 33: val_loss improved from 0.01230 to 0.01173, saving model to my_best_model.hdf5\n",
            "67/67 [==============================] - 1s 15ms/step - loss: 9.7567e-04 - val_loss: 0.0117\n",
            "Epoch 34/600\n",
            "64/67 [===========================>..] - ETA: 0s - loss: 8.1170e-04\n",
            "Epoch 34: val_loss improved from 0.01173 to 0.01162, saving model to my_best_model.hdf5\n",
            "67/67 [==============================] - 1s 15ms/step - loss: 0.0010 - val_loss: 0.0116\n",
            "Epoch 35/600\n",
            "66/67 [============================>.] - ETA: 0s - loss: 0.0016    \n",
            "Epoch 35: val_loss did not improve from 0.01162\n",
            "67/67 [==============================] - 1s 16ms/step - loss: 0.0017 - val_loss: 0.0131\n",
            "Epoch 36/600\n",
            "65/67 [============================>.] - ETA: 0s - loss: 0.0018\n",
            "Epoch 36: val_loss did not improve from 0.01162\n",
            "67/67 [==============================] - 1s 15ms/step - loss: 0.0021 - val_loss: 0.0133\n",
            "Epoch 37/600\n",
            "67/67 [==============================] - ETA: 0s - loss: 0.0021\n",
            "Epoch 37: val_loss did not improve from 0.01162\n",
            "67/67 [==============================] - 1s 15ms/step - loss: 0.0021 - val_loss: 0.0149\n",
            "Epoch 38/600\n",
            "65/67 [============================>.] - ETA: 0s - loss: 0.0013\n",
            "Epoch 38: val_loss did not improve from 0.01162\n",
            "67/67 [==============================] - 1s 19ms/step - loss: 0.0015 - val_loss: 0.0130\n",
            "Epoch 39/600\n",
            "66/67 [============================>.] - ETA: 0s - loss: 0.0012    \n",
            "Epoch 39: val_loss improved from 0.01162 to 0.01128, saving model to my_best_model.hdf5\n",
            "67/67 [==============================] - 2s 28ms/step - loss: 0.0012 - val_loss: 0.0113\n",
            "Epoch 40/600\n",
            "65/67 [============================>.] - ETA: 0s - loss: 0.0011    \n",
            "Epoch 40: val_loss did not improve from 0.01128\n",
            "67/67 [==============================] - 2s 32ms/step - loss: 0.0012 - val_loss: 0.0115\n",
            "Epoch 41/600\n",
            "65/67 [============================>.] - ETA: 0s - loss: 0.0011    \n",
            "Epoch 41: val_loss did not improve from 0.01128\n",
            "67/67 [==============================] - 2s 25ms/step - loss: 0.0012 - val_loss: 0.0116\n",
            "Epoch 42/600\n",
            "67/67 [==============================] - ETA: 0s - loss: 0.0010    \n",
            "Epoch 42: val_loss improved from 0.01128 to 0.01094, saving model to my_best_model.hdf5\n",
            "67/67 [==============================] - 1s 15ms/step - loss: 0.0010 - val_loss: 0.0109\n",
            "Epoch 43/600\n",
            "65/67 [============================>.] - ETA: 0s - loss: 0.0013    \n",
            "Epoch 43: val_loss did not improve from 0.01094\n",
            "67/67 [==============================] - 1s 16ms/step - loss: 0.0015 - val_loss: 0.0116\n",
            "Epoch 44/600\n",
            "66/67 [============================>.] - ETA: 0s - loss: 0.0014\n",
            "Epoch 44: val_loss did not improve from 0.01094\n",
            "67/67 [==============================] - 1s 17ms/step - loss: 0.0015 - val_loss: 0.0118\n",
            "Epoch 45/600\n",
            "64/67 [===========================>..] - ETA: 0s - loss: 9.0653e-04\n",
            "Epoch 45: val_loss improved from 0.01094 to 0.01081, saving model to my_best_model.hdf5\n",
            "67/67 [==============================] - 1s 15ms/step - loss: 0.0011 - val_loss: 0.0108\n",
            "Epoch 46/600\n",
            "67/67 [==============================] - ETA: 0s - loss: 8.6505e-04\n",
            "Epoch 46: val_loss improved from 0.01081 to 0.01080, saving model to my_best_model.hdf5\n",
            "67/67 [==============================] - 1s 15ms/step - loss: 8.6505e-04 - val_loss: 0.0108\n",
            "Epoch 47/600\n",
            "67/67 [==============================] - ETA: 0s - loss: 0.0010    \n",
            "Epoch 47: val_loss did not improve from 0.01080\n",
            "67/67 [==============================] - 1s 15ms/step - loss: 0.0010 - val_loss: 0.0108\n",
            "Epoch 48/600\n",
            "64/67 [===========================>..] - ETA: 0s - loss: 9.6092e-04\n",
            "Epoch 48: val_loss did not improve from 0.01080\n",
            "67/67 [==============================] - 1s 15ms/step - loss: 0.0013 - val_loss: 0.0117\n",
            "Epoch 49/600\n",
            "64/67 [===========================>..] - ETA: 0s - loss: 0.0012    \n",
            "Epoch 49: val_loss did not improve from 0.01080\n",
            "67/67 [==============================] - 1s 15ms/step - loss: 0.0015 - val_loss: 0.0117\n",
            "Epoch 50/600\n",
            "65/67 [============================>.] - ETA: 0s - loss: 0.0013    \n",
            "Epoch 50: val_loss did not improve from 0.01080\n",
            "67/67 [==============================] - 1s 15ms/step - loss: 0.0015 - val_loss: 0.0116\n",
            "Epoch 51/600\n",
            "67/67 [==============================] - ETA: 0s - loss: 0.0016\n",
            "Epoch 51: val_loss did not improve from 0.01080\n",
            "67/67 [==============================] - 1s 15ms/step - loss: 0.0016 - val_loss: 0.0114\n",
            "Epoch 52/600\n",
            "64/67 [===========================>..] - ETA: 0s - loss: 0.0012    \n",
            "Epoch 52: val_loss did not improve from 0.01080\n",
            "67/67 [==============================] - 1s 16ms/step - loss: 0.0014 - val_loss: 0.0110\n",
            "Epoch 53/600\n",
            "64/67 [===========================>..] - ETA: 0s - loss: 0.0010    \n",
            "Epoch 53: val_loss improved from 0.01080 to 0.01069, saving model to my_best_model.hdf5\n",
            "67/67 [==============================] - 1s 17ms/step - loss: 0.0012 - val_loss: 0.0107\n",
            "Epoch 54/600\n",
            "66/67 [============================>.] - ETA: 0s - loss: 0.0013    \n",
            "Epoch 54: val_loss did not improve from 0.01069\n",
            "67/67 [==============================] - 1s 18ms/step - loss: 0.0013 - val_loss: 0.0115\n",
            "Epoch 55/600\n",
            "66/67 [============================>.] - ETA: 0s - loss: 0.0010    \n",
            "Epoch 55: val_loss improved from 0.01069 to 0.01055, saving model to my_best_model.hdf5\n",
            "67/67 [==============================] - 1s 20ms/step - loss: 0.0011 - val_loss: 0.0105\n",
            "Epoch 56/600\n",
            "66/67 [============================>.] - ETA: 0s - loss: 0.0011    \n",
            "Epoch 56: val_loss improved from 0.01055 to 0.01032, saving model to my_best_model.hdf5\n",
            "67/67 [==============================] - 1s 21ms/step - loss: 0.0011 - val_loss: 0.0103\n",
            "Epoch 57/600\n",
            "64/67 [===========================>..] - ETA: 0s - loss: 0.0010    \n",
            "Epoch 57: val_loss did not improve from 0.01032\n",
            "67/67 [==============================] - 1s 15ms/step - loss: 0.0014 - val_loss: 0.0113\n",
            "Epoch 58/600\n",
            "66/67 [============================>.] - ETA: 0s - loss: 0.0014\n",
            "Epoch 58: val_loss did not improve from 0.01032\n",
            "67/67 [==============================] - 1s 18ms/step - loss: 0.0015 - val_loss: 0.0116\n",
            "Epoch 59/600\n",
            "66/67 [============================>.] - ETA: 0s - loss: 0.0011    \n",
            "Epoch 59: val_loss improved from 0.01032 to 0.01010, saving model to my_best_model.hdf5\n",
            "67/67 [==============================] - 1s 20ms/step - loss: 0.0012 - val_loss: 0.0101\n",
            "Epoch 60/600\n",
            "65/67 [============================>.] - ETA: 0s - loss: 0.0011    \n",
            "Epoch 60: val_loss did not improve from 0.01010\n",
            "67/67 [==============================] - 1s 18ms/step - loss: 0.0013 - val_loss: 0.0106\n",
            "Epoch 61/600\n",
            "64/67 [===========================>..] - ETA: 0s - loss: 0.0012    \n",
            "Epoch 61: val_loss did not improve from 0.01010\n",
            "67/67 [==============================] - 1s 15ms/step - loss: 0.0014 - val_loss: 0.0113\n",
            "Epoch 62/600\n",
            "66/67 [============================>.] - ETA: 0s - loss: 0.0010    \n",
            "Epoch 62: val_loss improved from 0.01010 to 0.00986, saving model to my_best_model.hdf5\n",
            "67/67 [==============================] - 1s 16ms/step - loss: 0.0010 - val_loss: 0.0099\n",
            "Epoch 63/600\n",
            "67/67 [==============================] - ETA: 0s - loss: 0.0010    \n",
            "Epoch 63: val_loss improved from 0.00986 to 0.00979, saving model to my_best_model.hdf5\n",
            "67/67 [==============================] - 1s 16ms/step - loss: 0.0010 - val_loss: 0.0098\n",
            "Epoch 64/600\n",
            "64/67 [===========================>..] - ETA: 0s - loss: 7.1248e-04\n",
            "Epoch 64: val_loss improved from 0.00979 to 0.00965, saving model to my_best_model.hdf5\n",
            "67/67 [==============================] - 1s 18ms/step - loss: 8.7979e-04 - val_loss: 0.0097\n",
            "Epoch 65/600\n",
            "66/67 [============================>.] - ETA: 0s - loss: 0.0010    \n",
            "Epoch 65: val_loss did not improve from 0.00965\n",
            "67/67 [==============================] - 1s 17ms/step - loss: 0.0011 - val_loss: 0.0099\n",
            "Epoch 66/600\n",
            "65/67 [============================>.] - ETA: 0s - loss: 0.0013    \n",
            "Epoch 66: val_loss did not improve from 0.00965\n",
            "67/67 [==============================] - 1s 16ms/step - loss: 0.0014 - val_loss: 0.0109\n",
            "Epoch 67/600\n",
            "65/67 [============================>.] - ETA: 0s - loss: 0.0011    \n",
            "Epoch 67: val_loss did not improve from 0.00965\n",
            "67/67 [==============================] - 1s 16ms/step - loss: 0.0012 - val_loss: 0.0098\n",
            "Epoch 68/600\n",
            "67/67 [==============================] - ETA: 0s - loss: 0.0010    \n",
            "Epoch 68: val_loss did not improve from 0.00965\n",
            "67/67 [==============================] - 1s 15ms/step - loss: 0.0010 - val_loss: 0.0098\n",
            "Epoch 69/600\n",
            "65/67 [============================>.] - ETA: 0s - loss: 8.3741e-04\n",
            "Epoch 69: val_loss improved from 0.00965 to 0.00947, saving model to my_best_model.hdf5\n",
            "67/67 [==============================] - 1s 19ms/step - loss: 9.6749e-04 - val_loss: 0.0095\n",
            "Epoch 70/600\n",
            "66/67 [============================>.] - ETA: 0s - loss: 0.0012    \n",
            "Epoch 70: val_loss did not improve from 0.00947\n",
            "67/67 [==============================] - 1s 20ms/step - loss: 0.0013 - val_loss: 0.0100\n",
            "Epoch 71/600\n",
            "65/67 [============================>.] - ETA: 0s - loss: 0.0012    \n",
            "Epoch 71: val_loss did not improve from 0.00947\n",
            "67/67 [==============================] - 1s 18ms/step - loss: 0.0013 - val_loss: 0.0104\n",
            "Epoch 72/600\n",
            "66/67 [============================>.] - ETA: 0s - loss: 0.0011    \n",
            "Epoch 72: val_loss improved from 0.00947 to 0.00933, saving model to my_best_model.hdf5\n",
            "67/67 [==============================] - 1s 20ms/step - loss: 0.0011 - val_loss: 0.0093\n",
            "Epoch 73/600\n",
            "65/67 [============================>.] - ETA: 0s - loss: 7.6624e-04\n",
            "Epoch 73: val_loss did not improve from 0.00933\n",
            "67/67 [==============================] - 2s 26ms/step - loss: 8.3397e-04 - val_loss: 0.0094\n",
            "Epoch 74/600\n",
            "65/67 [============================>.] - ETA: 0s - loss: 8.0795e-04\n",
            "Epoch 74: val_loss improved from 0.00933 to 0.00911, saving model to my_best_model.hdf5\n",
            "67/67 [==============================] - 2s 23ms/step - loss: 8.9347e-04 - val_loss: 0.0091\n",
            "Epoch 75/600\n",
            "66/67 [============================>.] - ETA: 0s - loss: 8.9443e-04\n",
            "Epoch 75: val_loss did not improve from 0.00911\n",
            "67/67 [==============================] - 1s 17ms/step - loss: 9.0870e-04 - val_loss: 0.0091\n",
            "Epoch 76/600\n",
            "64/67 [===========================>..] - ETA: 0s - loss: 7.4519e-04\n",
            "Epoch 76: val_loss did not improve from 0.00911\n",
            "67/67 [==============================] - 1s 18ms/step - loss: 9.0773e-04 - val_loss: 0.0095\n",
            "Epoch 77/600\n",
            "66/67 [============================>.] - ETA: 0s - loss: 8.8114e-04\n",
            "Epoch 77: val_loss improved from 0.00911 to 0.00889, saving model to my_best_model.hdf5\n",
            "67/67 [==============================] - 1s 18ms/step - loss: 9.1466e-04 - val_loss: 0.0089\n",
            "Epoch 78/600\n",
            "67/67 [==============================] - ETA: 0s - loss: 0.0011    \n",
            "Epoch 78: val_loss did not improve from 0.00889\n",
            "67/67 [==============================] - 1s 15ms/step - loss: 0.0011 - val_loss: 0.0091\n",
            "Epoch 79/600\n",
            "67/67 [==============================] - ETA: 0s - loss: 0.0014\n",
            "Epoch 79: val_loss did not improve from 0.00889\n",
            "67/67 [==============================] - 1s 20ms/step - loss: 0.0014 - val_loss: 0.0095\n",
            "Epoch 80/600\n",
            "66/67 [============================>.] - ETA: 0s - loss: 0.0015\n",
            "Epoch 80: val_loss did not improve from 0.00889\n",
            "67/67 [==============================] - 1s 15ms/step - loss: 0.0016 - val_loss: 0.0106\n",
            "Epoch 81/600\n",
            "66/67 [============================>.] - ETA: 0s - loss: 0.0010    \n",
            "Epoch 81: val_loss did not improve from 0.00889\n",
            "67/67 [==============================] - 1s 16ms/step - loss: 0.0011 - val_loss: 0.0091\n",
            "Epoch 82/600\n",
            "67/67 [==============================] - ETA: 0s - loss: 0.0013    \n",
            "Epoch 82: val_loss did not improve from 0.00889\n",
            "67/67 [==============================] - 1s 16ms/step - loss: 0.0013 - val_loss: 0.0095\n",
            "Epoch 83/600\n",
            "67/67 [==============================] - ETA: 0s - loss: 0.0012    \n",
            "Epoch 83: val_loss did not improve from 0.00889\n",
            "67/67 [==============================] - 1s 15ms/step - loss: 0.0012 - val_loss: 0.0093\n",
            "Epoch 84/600\n",
            "67/67 [==============================] - ETA: 0s - loss: 9.0830e-04\n",
            "Epoch 84: val_loss improved from 0.00889 to 0.00884, saving model to my_best_model.hdf5\n",
            "67/67 [==============================] - 1s 16ms/step - loss: 9.0830e-04 - val_loss: 0.0088\n",
            "Epoch 85/600\n",
            "64/67 [===========================>..] - ETA: 0s - loss: 6.2476e-04\n",
            "Epoch 85: val_loss did not improve from 0.00884\n",
            "67/67 [==============================] - 1s 15ms/step - loss: 7.2777e-04 - val_loss: 0.0092\n",
            "Epoch 86/600\n",
            "66/67 [============================>.] - ETA: 0s - loss: 0.0010    \n",
            "Epoch 86: val_loss did not improve from 0.00884\n",
            "67/67 [==============================] - 1s 16ms/step - loss: 0.0011 - val_loss: 0.0093\n",
            "Epoch 87/600\n",
            "64/67 [===========================>..] - ETA: 0s - loss: 8.1753e-04\n",
            "Epoch 87: val_loss improved from 0.00884 to 0.00862, saving model to my_best_model.hdf5\n",
            "67/67 [==============================] - 1s 17ms/step - loss: 9.9672e-04 - val_loss: 0.0086\n",
            "Epoch 88/600\n",
            "66/67 [============================>.] - ETA: 0s - loss: 0.0011    \n",
            "Epoch 88: val_loss did not improve from 0.00862\n",
            "67/67 [==============================] - 1s 16ms/step - loss: 0.0012 - val_loss: 0.0090\n",
            "Epoch 89/600\n",
            "66/67 [============================>.] - ETA: 0s - loss: 9.1319e-04\n",
            "Epoch 89: val_loss did not improve from 0.00862\n",
            "67/67 [==============================] - 1s 15ms/step - loss: 9.7987e-04 - val_loss: 0.0087\n",
            "Epoch 90/600\n",
            "67/67 [==============================] - ETA: 0s - loss: 9.7754e-04\n",
            "Epoch 90: val_loss did not improve from 0.00862\n",
            "67/67 [==============================] - 1s 15ms/step - loss: 9.7754e-04 - val_loss: 0.0088\n",
            "Epoch 91/600\n",
            "64/67 [===========================>..] - ETA: 0s - loss: 7.1152e-04\n",
            "Epoch 91: val_loss improved from 0.00862 to 0.00836, saving model to my_best_model.hdf5\n",
            "67/67 [==============================] - 1s 15ms/step - loss: 7.9277e-04 - val_loss: 0.0084\n",
            "Epoch 92/600\n",
            "67/67 [==============================] - ETA: 0s - loss: 7.6283e-04\n",
            "Epoch 92: val_loss did not improve from 0.00836\n",
            "67/67 [==============================] - 1s 15ms/step - loss: 7.6283e-04 - val_loss: 0.0084\n",
            "Epoch 93/600\n",
            "67/67 [==============================] - ETA: 0s - loss: 7.1671e-04\n",
            "Epoch 93: val_loss did not improve from 0.00836\n",
            "67/67 [==============================] - 1s 19ms/step - loss: 7.1671e-04 - val_loss: 0.0084\n",
            "Epoch 94/600\n",
            "66/67 [============================>.] - ETA: 0s - loss: 7.0887e-04\n",
            "Epoch 94: val_loss did not improve from 0.00836\n",
            "67/67 [==============================] - 1s 16ms/step - loss: 7.2476e-04 - val_loss: 0.0084\n",
            "Epoch 95/600\n",
            "66/67 [============================>.] - ETA: 0s - loss: 8.3735e-04\n",
            "Epoch 95: val_loss improved from 0.00836 to 0.00831, saving model to my_best_model.hdf5\n",
            "67/67 [==============================] - 1s 19ms/step - loss: 8.6981e-04 - val_loss: 0.0083\n",
            "Epoch 96/600\n",
            "67/67 [==============================] - ETA: 0s - loss: 9.2876e-04\n",
            "Epoch 96: val_loss did not improve from 0.00831\n",
            "67/67 [==============================] - 1s 19ms/step - loss: 9.2876e-04 - val_loss: 0.0089\n",
            "Epoch 97/600\n",
            "65/67 [============================>.] - ETA: 0s - loss: 8.7048e-04\n",
            "Epoch 97: val_loss did not improve from 0.00831\n",
            "67/67 [==============================] - 1s 16ms/step - loss: 0.0010 - val_loss: 0.0087\n",
            "Epoch 98/600\n",
            "65/67 [============================>.] - ETA: 0s - loss: 0.0010    \n",
            "Epoch 98: val_loss did not improve from 0.00831\n",
            "67/67 [==============================] - 1s 17ms/step - loss: 0.0011 - val_loss: 0.0091\n",
            "Epoch 99/600\n",
            "67/67 [==============================] - ETA: 0s - loss: 7.2385e-04\n",
            "Epoch 99: val_loss improved from 0.00831 to 0.00807, saving model to my_best_model.hdf5\n",
            "67/67 [==============================] - 2s 25ms/step - loss: 7.2385e-04 - val_loss: 0.0081\n",
            "Epoch 100/600\n",
            "64/67 [===========================>..] - ETA: 0s - loss: 7.2003e-04\n",
            "Epoch 100: val_loss did not improve from 0.00807\n",
            "67/67 [==============================] - 1s 18ms/step - loss: 9.2283e-04 - val_loss: 0.0084\n",
            "Epoch 101/600\n",
            "64/67 [===========================>..] - ETA: 0s - loss: 6.1131e-04\n",
            "Epoch 101: val_loss improved from 0.00807 to 0.00806, saving model to my_best_model.hdf5\n",
            "67/67 [==============================] - 1s 18ms/step - loss: 7.1412e-04 - val_loss: 0.0081\n",
            "Epoch 102/600\n",
            "65/67 [============================>.] - ETA: 0s - loss: 7.9691e-04\n",
            "Epoch 102: val_loss did not improve from 0.00806\n",
            "67/67 [==============================] - 1s 18ms/step - loss: 9.4916e-04 - val_loss: 0.0086\n",
            "Epoch 103/600\n",
            "66/67 [============================>.] - ETA: 0s - loss: 7.9319e-04\n",
            "Epoch 103: val_loss did not improve from 0.00806\n",
            "67/67 [==============================] - 1s 19ms/step - loss: 8.2973e-04 - val_loss: 0.0082\n",
            "Epoch 104/600\n",
            "66/67 [============================>.] - ETA: 0s - loss: 9.6160e-04\n",
            "Epoch 104: val_loss did not improve from 0.00806\n",
            "67/67 [==============================] - 1s 19ms/step - loss: 0.0010 - val_loss: 0.0084\n",
            "Epoch 105/600\n",
            "66/67 [============================>.] - ETA: 0s - loss: 7.2866e-04\n",
            "Epoch 105: val_loss did not improve from 0.00806\n",
            "67/67 [==============================] - 1s 18ms/step - loss: 7.6031e-04 - val_loss: 0.0082\n",
            "Epoch 106/600\n",
            "66/67 [============================>.] - ETA: 0s - loss: 6.5937e-04\n",
            "Epoch 106: val_loss improved from 0.00806 to 0.00797, saving model to my_best_model.hdf5\n",
            "67/67 [==============================] - 1s 18ms/step - loss: 7.0746e-04 - val_loss: 0.0080\n",
            "Epoch 107/600\n",
            "64/67 [===========================>..] - ETA: 0s - loss: 6.6098e-04\n",
            "Epoch 107: val_loss improved from 0.00797 to 0.00793, saving model to my_best_model.hdf5\n",
            "67/67 [==============================] - 1s 16ms/step - loss: 7.6841e-04 - val_loss: 0.0079\n",
            "Epoch 108/600\n",
            "66/67 [============================>.] - ETA: 0s - loss: 0.0011    \n",
            "Epoch 108: val_loss did not improve from 0.00793\n",
            "67/67 [==============================] - 1s 15ms/step - loss: 0.0012 - val_loss: 0.0091\n",
            "Epoch 109/600\n",
            "67/67 [==============================] - ETA: 0s - loss: 9.6917e-04\n",
            "Epoch 109: val_loss did not improve from 0.00793\n",
            "67/67 [==============================] - 1s 15ms/step - loss: 9.6917e-04 - val_loss: 0.0085\n",
            "Epoch 110/600\n",
            "65/67 [============================>.] - ETA: 0s - loss: 8.0227e-04\n",
            "Epoch 110: val_loss improved from 0.00793 to 0.00783, saving model to my_best_model.hdf5\n",
            "67/67 [==============================] - 1s 17ms/step - loss: 8.9263e-04 - val_loss: 0.0078\n",
            "Epoch 111/600\n",
            "67/67 [==============================] - ETA: 0s - loss: 7.7528e-04\n",
            "Epoch 111: val_loss did not improve from 0.00783\n",
            "67/67 [==============================] - 1s 17ms/step - loss: 7.7528e-04 - val_loss: 0.0080\n",
            "Epoch 112/600\n",
            "67/67 [==============================] - ETA: 0s - loss: 8.1592e-04\n",
            "Epoch 112: val_loss did not improve from 0.00783\n",
            "67/67 [==============================] - 1s 16ms/step - loss: 8.1592e-04 - val_loss: 0.0081\n",
            "Epoch 113/600\n",
            "66/67 [============================>.] - ETA: 0s - loss: 6.4310e-04\n",
            "Epoch 113: val_loss did not improve from 0.00783\n",
            "67/67 [==============================] - 1s 18ms/step - loss: 6.9690e-04 - val_loss: 0.0080\n",
            "Epoch 114/600\n",
            "67/67 [==============================] - ETA: 0s - loss: 9.1369e-04\n",
            "Epoch 114: val_loss did not improve from 0.00783\n",
            "67/67 [==============================] - 1s 18ms/step - loss: 9.1369e-04 - val_loss: 0.0081\n",
            "Epoch 115/600\n",
            "65/67 [============================>.] - ETA: 0s - loss: 5.9393e-04\n",
            "Epoch 115: val_loss improved from 0.00783 to 0.00772, saving model to my_best_model.hdf5\n",
            "67/67 [==============================] - 1s 17ms/step - loss: 6.5920e-04 - val_loss: 0.0077\n",
            "Epoch 116/600\n",
            "65/67 [============================>.] - ETA: 0s - loss: 7.4681e-04\n",
            "Epoch 116: val_loss did not improve from 0.00772\n",
            "67/67 [==============================] - 1s 18ms/step - loss: 9.1284e-04 - val_loss: 0.0088\n",
            "Epoch 117/600\n",
            "66/67 [============================>.] - ETA: 0s - loss: 8.7609e-04\n",
            "Epoch 117: val_loss did not improve from 0.00772\n",
            "67/67 [==============================] - 1s 21ms/step - loss: 9.1019e-04 - val_loss: 0.0080\n",
            "Epoch 118/600\n",
            "66/67 [============================>.] - ETA: 0s - loss: 0.0011    \n",
            "Epoch 118: val_loss did not improve from 0.00772\n",
            "67/67 [==============================] - 2s 28ms/step - loss: 0.0012 - val_loss: 0.0091\n",
            "Epoch 119/600\n",
            "67/67 [==============================] - ETA: 0s - loss: 0.0010    \n",
            "Epoch 119: val_loss did not improve from 0.00772\n",
            "67/67 [==============================] - 1s 19ms/step - loss: 0.0010 - val_loss: 0.0088\n",
            "Epoch 120/600\n",
            "67/67 [==============================] - ETA: 0s - loss: 0.0012    \n",
            "Epoch 120: val_loss did not improve from 0.00772\n",
            "67/67 [==============================] - 1s 15ms/step - loss: 0.0012 - val_loss: 0.0090\n",
            "Epoch 121/600\n",
            "67/67 [==============================] - ETA: 0s - loss: 6.9254e-04\n",
            "Epoch 121: val_loss did not improve from 0.00772\n",
            "67/67 [==============================] - 1s 15ms/step - loss: 6.9254e-04 - val_loss: 0.0081\n",
            "Epoch 122/600\n",
            "66/67 [============================>.] - ETA: 0s - loss: 5.8335e-04\n",
            "Epoch 122: val_loss did not improve from 0.00772\n",
            "67/67 [==============================] - 1s 15ms/step - loss: 6.5414e-04 - val_loss: 0.0083\n",
            "Epoch 123/600\n",
            "65/67 [============================>.] - ETA: 0s - loss: 5.2605e-04\n",
            "Epoch 123: val_loss did not improve from 0.00772\n",
            "67/67 [==============================] - 1s 16ms/step - loss: 5.8022e-04 - val_loss: 0.0081\n",
            "Epoch 124/600\n",
            "65/67 [============================>.] - ETA: 0s - loss: 6.0091e-04\n",
            "Epoch 124: val_loss did not improve from 0.00772\n",
            "67/67 [==============================] - 1s 17ms/step - loss: 6.5356e-04 - val_loss: 0.0080\n",
            "Epoch 125/600\n",
            "64/67 [===========================>..] - ETA: 0s - loss: 4.7705e-04\n",
            "Epoch 125: val_loss did not improve from 0.00772\n",
            "67/67 [==============================] - 1s 15ms/step - loss: 5.6480e-04 - val_loss: 0.0080\n"
          ]
        }
      ]
    },
    {
      "cell_type": "markdown",
      "source": [
        "\n",
        "**Plot line graph approach to show Loss Numbers ** **bold text**"
      ],
      "metadata": {
        "id": "t5ZDkwVEPKP-"
      }
    },
    {
      "cell_type": "code",
      "source": [
        "\n",
        "from tensorflow.keras.models import load_model\n",
        "\n",
        "model_from_saved_checkpoint = load_model(checkpoint_path)"
      ],
      "metadata": {
        "id": "KbzgZXyYPJP5"
      },
      "execution_count": null,
      "outputs": []
    },
    {
      "cell_type": "code",
      "source": [
        "plt.figure(figsize=(16,7))\n",
        "plt.plot(history.history['loss'], label='train')\n",
        "\n",
        "plt.plot(history.history['val_loss'], label='test',color='green')\n",
        "plt.legend()\n",
        "plt.show()"
      ],
      "metadata": {
        "colab": {
          "base_uri": "https://localhost:8080/",
          "height": 425
        },
        "id": "cylp-cofPiuo",
        "outputId": "3c874213-29dc-427d-fa60-3fcc8756e7d9"
      },
      "execution_count": null,
      "outputs": [
        {
          "output_type": "display_data",
          "data": {
            "text/plain": [
              "<Figure size 1152x504 with 1 Axes>"
            ],
            "image/png": "[encoded data removed]"
          },
          "metadata": {}
        }
      ]
    },
    {
      "cell_type": "markdown",
      "source": [
        "\n",
        "**LSTM Predictions using testX and plotting line graph against Actual testY**"
      ],
      "metadata": {
        "id": "yL3VV6YEP6yy"
      }
    },
    {
      "cell_type": "code",
      "source": [
        "predicted_btc_price_test_data = model_from_saved_checkpoint.predict(testX)\n",
        "\n",
        "predicted_btc_price_test_data = scaler_test.inverse_transform(predicted_btc_price_test_data.reshape(-1, 1))\n",
        "\n",
        "test_actual = scaler_test.inverse_transform(testY.reshape(-1, 1))"
      ],
      "metadata": {
        "colab": {
          "base_uri": "https://localhost:8080/"
        },
        "id": "TE1PWjeiP-kK",
        "outputId": "e30a5f08-1d88-4aff-f6c6-cb2a27355215"
      },
      "execution_count": null,
      "outputs": [
        {
          "output_type": "stream",
          "name": "stdout",
          "text": [
            "2/2 [==============================] - 1s 10ms/step\n"
          ]
        }
      ]
    },
    {
      "cell_type": "code",
      "source": [
        "plt.figure(figsize=(16,7))\n",
        "\n",
        "plt.plot(predicted_btc_price_test_data, 'r', marker='.', label='Predicted Test')\n",
        "\n",
        "plt.plot(test_actual, marker='.', label='Actual Test')\n",
        "\n",
        "plt.legend()\n",
        "plt.show()"
      ],
      "metadata": {
        "colab": {
          "base_uri": "https://localhost:8080/",
          "height": 425
        },
        "id": "5PF-O6cfQCpY",
        "outputId": "f3f945d9-c353-49c8-f5e4-aaad7c937ea5"
      },
      "execution_count": null,
      "outputs": [
        {
          "output_type": "display_data",
          "data": {
            "text/plain": [
              "<Figure size 1152x504 with 1 Axes>"
            ],
            "image/png": "[encoded data removed]"
          },
          "metadata": {}
        }
      ]
    },
    {
      "cell_type": "markdown",
      "source": [
        "**LSTM Prediction using trainX and plotting line graph against Actual trainY**"
      ],
      "metadata": {
        "id": "c0kYIDihQULv"
      }
    },
    {
      "cell_type": "code",
      "source": [
        "predicted_btc_price_train_data = model_from_saved_checkpoint.predict(trainX)\n",
        "\n",
        "predicted_btc_price_train_data = scaler_train.inverse_transform(predicted_btc_price_train_data.reshape(-1, 1))\n",
        "\n",
        "train_actual = scaler_train.inverse_transform(trainY.reshape(-1, 1))"
      ],
      "metadata": {
        "colab": {
          "base_uri": "https://localhost:8080/"
        },
        "id": "saFPIfe9QWMp",
        "outputId": "9747393f-4709-441c-bed5-89bd135d2619"
      },
      "execution_count": null,
      "outputs": [
        {
          "output_type": "stream",
          "name": "stdout",
          "text": [
            "67/67 [==============================] - 1s 7ms/step\n"
          ]
        }
      ]
    },
    {
      "cell_type": "code",
      "source": [
        "plt.figure(figsize=(16,7))\n",
        "\n",
        "plt.plot(predicted_btc_price_train_data, 'r', marker='.', label='Predicted Train')\n",
        "\n",
        "plt.plot(train_actual, marker='.', label='Actual Train')\n",
        "\n",
        "plt.legend()\n",
        "plt.show()"
      ],
      "metadata": {
        "colab": {
          "base_uri": "https://localhost:8080/",
          "height": 425
        },
        "id": "z6Oea4fwQaED",
        "outputId": "19356603-66c9-457c-84c7-422d2614a5a3"
      },
      "execution_count": null,
      "outputs": [
        {
          "output_type": "display_data",
          "data": {
            "text/plain": [
              "<Figure size 1152x504 with 1 Axes>"
            ],
            "image/png": "[encoded data removed]"
          },
          "metadata": {}
        }
      ]
    },
    {
      "cell_type": "markdown",
      "source": [
        "**Future Price Predictions - For 5 Days beyond the actual trading days where there is no idea for realtime data**"
      ],
      "metadata": {
        "id": "YQbQjJIQQ4-t"
      }
    },
    {
      "cell_type": "code",
      "source": [
        "testX\n",
        "testX.shape"
      ],
      "metadata": {
        "colab": {
          "base_uri": "https://localhost:8080/"
        },
        "id": "vSam5pnIRFwL",
        "outputId": "07c6c5bd-595b-4d03-d04a-0f60b8b3803b"
      },
      "execution_count": null,
      "outputs": [
        {
          "output_type": "execute_result",
          "data": {
            "text/plain": [
              "(55, 5, 1)"
            ]
          },
          "metadata": {},
          "execution_count": 111
        }
      ]
    },
    {
      "cell_type": "code",
      "source": [
        "lookback_period = 5\n",
        "\n",
        "\n",
        "testX_last_5_days = testX[testX.shape[0] - lookback_period :  ]\n",
        "\n",
        "testX_last_5_days.shape"
      ],
      "metadata": {
        "colab": {
          "base_uri": "https://localhost:8080/"
        },
        "id": "eFZ8s9wURH92",
        "outputId": "b9289f05-cd4c-40f1-910d-95d531de2cd6"
      },
      "execution_count": null,
      "outputs": [
        {
          "output_type": "execute_result",
          "data": {
            "text/plain": [
              "(5, 5, 1)"
            ]
          },
          "metadata": {},
          "execution_count": 112
        }
      ]
    },
    {
      "cell_type": "code",
      "source": [
        "testX_last_5_days"
      ],
      "metadata": {
        "colab": {
          "base_uri": "https://localhost:8080/"
        },
        "id": "5QWBrJHBRLcy",
        "outputId": "b8663e24-b0f5-436b-f7aa-1d0f8d364eb2"
      },
      "execution_count": null,
      "outputs": [
        {
          "output_type": "execute_result",
          "data": {
            "text/plain": [
              "array([[[0.97247556],\n",
              "        [0.87962325],\n",
              "        [0.83248555],\n",
              "        [0.81613368],\n",
              "        [0.89829139]],\n",
              "\n",
              "       [[0.87962325],\n",
              "        [0.83248555],\n",
              "        [0.81613368],\n",
              "        [0.89829139],\n",
              "        [0.88503214]],\n",
              "\n",
              "       [[0.83248555],\n",
              "        [0.81613368],\n",
              "        [0.89829139],\n",
              "        [0.88503214],\n",
              "        [0.76423277]],\n",
              "\n",
              "       [[0.81613368],\n",
              "        [0.89829139],\n",
              "        [0.88503214],\n",
              "        [0.76423277],\n",
              "        [0.7963598 ]],\n",
              "\n",
              "       [[0.89829139],\n",
              "        [0.88503214],\n",
              "        [0.76423277],\n",
              "        [0.7963598 ],\n",
              "        [0.85391712]]])"
            ]
          },
          "metadata": {},
          "execution_count": 113
        }
      ]
    },
    {
      "cell_type": "code",
      "source": [
        "predicted_5_days_forecast_price_test_x = []\n",
        "\n",
        "for i in range(5):  \n",
        "  predicted_forecast_price_test_x = model_from_saved_checkpoint.predict(testX_last_5_days[i:i+1])\n",
        "  \n",
        "  predicted_forecast_price_test_x = scaler_test.inverse_transform(predicted_forecast_price_test_x.reshape(-1, 1))\n",
        "\n",
        "  predicted_5_days_forecast_price_test_x.append(predicted_forecast_price_test_x)\n",
        "  \n",
        "print(\"Forecast for the next 5 Days Beyond the actual trading days \", np.array(predicted_5_days_forecast_price_test_x)) "
      ],
      "metadata": {
        "colab": {
          "base_uri": "https://localhost:8080/"
        },
        "id": "T_jE8Be2RPBs",
        "outputId": "c3f932ef-5709-4f75-f021-f8ad280d37a1"
      },
      "execution_count": null,
      "outputs": [
        {
          "output_type": "stream",
          "name": "stdout",
          "text": [
            "1/1 [==============================] - 0s 45ms/step\n",
            "1/1 [==============================] - 0s 25ms/step\n",
            "1/1 [==============================] - 0s 26ms/step\n",
            "1/1 [==============================] - 0s 29ms/step\n",
            "1/1 [==============================] - 0s 28ms/step\n",
            "Forecast for the next 5 Days Beyond the actual trading days  [[[63062.895]]\n",
            "\n",
            " [[62656.266]]\n",
            "\n",
            " [[61152.055]]\n",
            "\n",
            " [[61202.42 ]]\n",
            "\n",
            " [[62140.67 ]]]\n"
          ]
        }
      ]
    },
    {
      "cell_type": "code",
      "source": [
        "predicted_5_days_forecast_price_test_x = np.array(predicted_5_days_forecast_price_test_x)\n",
        "\n",
        "predicted_5_days_forecast_price_test_x.shape"
      ],
      "metadata": {
        "colab": {
          "base_uri": "https://localhost:8080/"
        },
        "id": "J-Ct4Zk1RVAM",
        "outputId": "8ff39178-6548-44d5-a0d0-9f850d6e5300"
      },
      "execution_count": null,
      "outputs": [
        {
          "output_type": "execute_result",
          "data": {
            "text/plain": [
              "(5, 1, 1)"
            ]
          },
          "metadata": {},
          "execution_count": 115
        }
      ]
    },
    {
      "cell_type": "code",
      "source": [
        "predicted_btc_price_test_data.shape"
      ],
      "metadata": {
        "colab": {
          "base_uri": "https://localhost:8080/"
        },
        "id": "Q0JVS2KcR0DN",
        "outputId": "4586c0ef-b227-4ffc-afce-128e5c03e9b2"
      },
      "execution_count": null,
      "outputs": [
        {
          "output_type": "execute_result",
          "data": {
            "text/plain": [
              "(55, 1)"
            ]
          },
          "metadata": {},
          "execution_count": 116
        }
      ]
    },
    {
      "cell_type": "code",
      "source": [
        "predicted_btc_price_test_data"
      ],
      "metadata": {
        "colab": {
          "base_uri": "https://localhost:8080/"
        },
        "id": "1KwFCOZER2ag",
        "outputId": "9637d03e-bff0-4d77-d4f7-e2eacfcbdbcb"
      },
      "execution_count": null,
      "outputs": [
        {
          "output_type": "execute_result",
          "data": {
            "text/plain": [
              "array([[50905.87 ],\n",
              "       [51686.996],\n",
              "       [51334.824],\n",
              "       [49561.766],\n",
              "       [48258.29 ],\n",
              "       [47254.547],\n",
              "       [46613.754],\n",
              "       [46343.734],\n",
              "       [45952.848],\n",
              "       [46167.34 ],\n",
              "       [46914.832],\n",
              "       [47772.934],\n",
              "       [48215.344],\n",
              "       [48698.555],\n",
              "       [48789.3  ],\n",
              "       [47375.258],\n",
              "       [45601.53 ],\n",
              "       [44281.844],\n",
              "       [43973.105],\n",
              "       [43740.062],\n",
              "       [43476.492],\n",
              "       [43389.844],\n",
              "       [43537.426],\n",
              "       [43204.418],\n",
              "       [42832.69 ],\n",
              "       [42949.11 ],\n",
              "       [43845.637],\n",
              "       [45324.25 ],\n",
              "       [46930.496],\n",
              "       [48307.19 ],\n",
              "       [49528.062],\n",
              "       [50956.73 ],\n",
              "       [52478.703],\n",
              "       [53792.72 ],\n",
              "       [54810.473],\n",
              "       [55416.27 ],\n",
              "       [56239.258],\n",
              "       [56666.484],\n",
              "       [56659.156],\n",
              "       [57508.934],\n",
              "       [58661.04 ],\n",
              "       [59707.566],\n",
              "       [60426.633],\n",
              "       [61472.04 ],\n",
              "       [62481.258],\n",
              "       [63829.14 ],\n",
              "       [63851.168],\n",
              "       [63019.594],\n",
              "       [62545.973],\n",
              "       [62357.69 ],\n",
              "       [63062.895],\n",
              "       [62656.26 ],\n",
              "       [61152.055],\n",
              "       [61202.42 ],\n",
              "       [62140.67 ]], dtype=float32)"
            ]
          },
          "metadata": {},
          "execution_count": 117
        }
      ]
    },
    {
      "cell_type": "code",
      "source": [
        "predicted_5_days_forecast_price_test_x"
      ],
      "metadata": {
        "colab": {
          "base_uri": "https://localhost:8080/"
        },
        "id": "Ur-E1ACzR5hv",
        "outputId": "cfdd3617-90f9-43c7-84aa-15ffd54dd906"
      },
      "execution_count": null,
      "outputs": [
        {
          "output_type": "execute_result",
          "data": {
            "text/plain": [
              "array([[[63062.895]],\n",
              "\n",
              "       [[62656.266]],\n",
              "\n",
              "       [[61152.055]],\n",
              "\n",
              "       [[61202.42 ]],\n",
              "\n",
              "       [[62140.67 ]]], dtype=float32)"
            ]
          },
          "metadata": {},
          "execution_count": 118
        }
      ]
    },
    {
      "cell_type": "code",
      "source": [
        "\n",
        "predicted_5_days_forecast_price_test_x = predicted_5_days_forecast_price_test_x.flatten()\n",
        "\n",
        "predicted_5_days_forecast_price_test_x"
      ],
      "metadata": {
        "colab": {
          "base_uri": "https://localhost:8080/"
        },
        "id": "0D2-LswHR7pJ",
        "outputId": "e1e4d5af-6e2c-422a-e9ca-cca97a479bd8"
      },
      "execution_count": null,
      "outputs": [
        {
          "output_type": "execute_result",
          "data": {
            "text/plain": [
              "array([63062.895, 62656.266, 61152.055, 61202.42 , 62140.67 ],\n",
              "      dtype=float32)"
            ]
          },
          "metadata": {},
          "execution_count": 119
        }
      ]
    },
    {
      "cell_type": "code",
      "source": [
        "predicted_btc_price_test_data = predicted_btc_price_test_data.flatten()\n",
        "\n",
        "predicted_btc_price_test_data"
      ],
      "metadata": {
        "colab": {
          "base_uri": "https://localhost:8080/"
        },
        "id": "Ixy_QavCR9za",
        "outputId": "b923ef3c-8f27-4216-b908-66fce5335d2f"
      },
      "execution_count": null,
      "outputs": [
        {
          "output_type": "execute_result",
          "data": {
            "text/plain": [
              "array([50905.87 , 51686.996, 51334.824, 49561.766, 48258.29 , 47254.547,\n",
              "       46613.754, 46343.734, 45952.848, 46167.34 , 46914.832, 47772.934,\n",
              "       48215.344, 48698.555, 48789.3  , 47375.258, 45601.53 , 44281.844,\n",
              "       43973.105, 43740.062, 43476.492, 43389.844, 43537.426, 43204.418,\n",
              "       42832.69 , 42949.11 , 43845.637, 45324.25 , 46930.496, 48307.19 ,\n",
              "       49528.062, 50956.73 , 52478.703, 53792.72 , 54810.473, 55416.27 ,\n",
              "       56239.258, 56666.484, 56659.156, 57508.934, 58661.04 , 59707.566,\n",
              "       60426.633, 61472.04 , 62481.258, 63829.14 , 63851.168, 63019.594,\n",
              "       62545.973, 62357.69 , 63062.895, 62656.26 , 61152.055, 61202.42 ,\n",
              "       62140.67 ], dtype=float32)"
            ]
          },
          "metadata": {},
          "execution_count": 120
        }
      ]
    },
    {
      "cell_type": "code",
      "source": [
        "\n",
        "predicted_btc_test_concatenated = np.concatenate((predicted_btc_price_test_data, predicted_5_days_forecast_price_test_x))\n",
        "\n",
        "predicted_btc_test_concatenated\n",
        "\n",
        "predicted_btc_test_concatenated.shape"
      ],
      "metadata": {
        "colab": {
          "base_uri": "https://localhost:8080/"
        },
        "id": "NuHgLYD9SAJK",
        "outputId": "a0a46aaa-cca7-4139-c9fc-86e02a626c90"
      },
      "execution_count": null,
      "outputs": [
        {
          "output_type": "execute_result",
          "data": {
            "text/plain": [
              "(60,)"
            ]
          },
          "metadata": {},
          "execution_count": 121
        }
      ]
    },
    {
      "cell_type": "markdown",
      "source": [
        "**Plotting entire Predictions of Test Data (including the Future 5-days ) against Actual testY**"
      ],
      "metadata": {
        "id": "RbeHHlWIQqln"
      }
    },
    {
      "cell_type": "code",
      "source": [
        "plt.figure(figsize=(16,7))\n",
        "\n",
        "plt.plot(predicted_btc_test_concatenated, 'r', marker='.', label='Predicted Test')\n",
        "\n",
        "plt.plot(test_actual, marker='.', label='Actual Test')\n",
        "\n",
        "plt.legend()\n",
        "\n",
        "plt.show()"
      ],
      "metadata": {
        "colab": {
          "base_uri": "https://localhost:8080/",
          "height": 425
        },
        "id": "XXxNEBUVQwaB",
        "outputId": "a7aea3fd-0409-4bb3-9139-5e771204f5c0"
      },
      "execution_count": null,
      "outputs": [
        {
          "output_type": "display_data",
          "data": {
            "text/plain": [
              "<Figure size 1152x504 with 1 Axes>"
            ],
            "image/png": "[encoded data removed]"
          },
          "metadata": {}
        }
      ]
    }
  ]
}